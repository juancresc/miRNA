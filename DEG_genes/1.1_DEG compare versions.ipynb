{
 "cells": [
  {
   "cell_type": "code",
   "execution_count": 22,
   "metadata": {},
   "outputs": [],
   "source": [
    "import pandas as pd\n",
    "from Bio import SeqIO\n",
    "from Bio.SeqRecord import SeqRecord\n",
    "from Bio.Seq import Seq\n",
    "\n",
    "file_deg_pre = '../data/DEGs_by_RNAseq_21dpi_wheat.txt'\n",
    "file_deg_new = '../data/DEG-normalized.csv'\n",
    "\n",
    "file_annotation = '/home/juan/Desktop/juan/bio/data/annotations/iwgsc_refseqv1.1_genes_2017July06/IWGSC_v1.1_HC_20170706.gff3'\n",
    "file_fasta = \"/home/juan/Desktop/juan/bio/data/genomes/iwgsc_refseqv1.0_all_chromosomes/161010_Chinese_Spring_v1.0_pseudomolecules.fasta\""
   ]
  },
  {
   "cell_type": "code",
   "execution_count": 23,
   "metadata": {},
   "outputs": [],
   "source": [
    "df_gff = pd.read_csv(file_annotation, index_col=False, sep='\\t', header=None, comment='#')\n",
    "df_gff.columns = ['seqname', 'source', 'feature', 'start', 'end', 'score', 'strand', 'frame', 'attribute']"
   ]
  },
  {
   "cell_type": "code",
   "execution_count": 24,
   "metadata": {},
   "outputs": [],
   "source": [
    "fasta_index = SeqIO.index(file_fasta, 'fasta')"
   ]
  },
  {
   "cell_type": "code",
   "execution_count": 25,
   "metadata": {},
   "outputs": [
    {
     "data": {
      "text/html": [
       "<div>\n",
       "<style scoped>\n",
       "    .dataframe tbody tr th:only-of-type {\n",
       "        vertical-align: middle;\n",
       "    }\n",
       "\n",
       "    .dataframe tbody tr th {\n",
       "        vertical-align: top;\n",
       "    }\n",
       "\n",
       "    .dataframe thead th {\n",
       "        text-align: right;\n",
       "    }\n",
       "</style>\n",
       "<table border=\"1\" class=\"dataframe\">\n",
       "  <thead>\n",
       "    <tr style=\"text-align: right;\">\n",
       "      <th></th>\n",
       "      <th>Unnamed: 0</th>\n",
       "      <th>gene</th>\n",
       "      <th>baseMean</th>\n",
       "      <th>log2FoldChange</th>\n",
       "      <th>lfcSE</th>\n",
       "      <th>stat</th>\n",
       "      <th>pvalue</th>\n",
       "      <th>padj</th>\n",
       "      <th>21_1.treated.txt</th>\n",
       "      <th>21_1.txt</th>\n",
       "      <th>21_2.treated.txt</th>\n",
       "      <th>21_2.txt</th>\n",
       "      <th>21_3.treated.txt</th>\n",
       "      <th>21_3.txt</th>\n",
       "      <th>21_4.treated.txt</th>\n",
       "      <th>21_4.txt</th>\n",
       "    </tr>\n",
       "  </thead>\n",
       "  <tbody>\n",
       "    <tr>\n",
       "      <th>0</th>\n",
       "      <td>1</td>\n",
       "      <td>TraesCS2B02G286300</td>\n",
       "      <td>319.972214</td>\n",
       "      <td>2.444493</td>\n",
       "      <td>0.224993</td>\n",
       "      <td>10.864762</td>\n",
       "      <td>1.696657e-27</td>\n",
       "      <td>5.058468e-23</td>\n",
       "      <td>77.189345</td>\n",
       "      <td>582.405920</td>\n",
       "      <td>81.420732</td>\n",
       "      <td>553.846531</td>\n",
       "      <td>93.679357</td>\n",
       "      <td>476.201883</td>\n",
       "      <td>145.899439</td>\n",
       "      <td>549.134507</td>\n",
       "    </tr>\n",
       "    <tr>\n",
       "      <th>1</th>\n",
       "      <td>2</td>\n",
       "      <td>TraesCS2B02G336800</td>\n",
       "      <td>2294.840884</td>\n",
       "      <td>-2.910446</td>\n",
       "      <td>0.267975</td>\n",
       "      <td>-10.860905</td>\n",
       "      <td>1.769871e-27</td>\n",
       "      <td>5.058468e-23</td>\n",
       "      <td>4973.338834</td>\n",
       "      <td>532.976635</td>\n",
       "      <td>5275.747232</td>\n",
       "      <td>513.078653</td>\n",
       "      <td>2149.477994</td>\n",
       "      <td>500.011977</td>\n",
       "      <td>3804.767645</td>\n",
       "      <td>609.328098</td>\n",
       "    </tr>\n",
       "  </tbody>\n",
       "</table>\n",
       "</div>"
      ],
      "text/plain": [
       "   Unnamed: 0                gene     baseMean  log2FoldChange     lfcSE  \\\n",
       "0           1  TraesCS2B02G286300   319.972214        2.444493  0.224993   \n",
       "1           2  TraesCS2B02G336800  2294.840884       -2.910446  0.267975   \n",
       "\n",
       "        stat        pvalue          padj  21_1.treated.txt    21_1.txt  \\\n",
       "0  10.864762  1.696657e-27  5.058468e-23         77.189345  582.405920   \n",
       "1 -10.860905  1.769871e-27  5.058468e-23       4973.338834  532.976635   \n",
       "\n",
       "   21_2.treated.txt    21_2.txt  21_3.treated.txt    21_3.txt  \\\n",
       "0         81.420732  553.846531         93.679357  476.201883   \n",
       "1       5275.747232  513.078653       2149.477994  500.011977   \n",
       "\n",
       "   21_4.treated.txt    21_4.txt  \n",
       "0        145.899439  549.134507  \n",
       "1       3804.767645  609.328098  "
      ]
     },
     "execution_count": 25,
     "metadata": {},
     "output_type": "execute_result"
    }
   ],
   "source": [
    "df_new = pd.read_csv(file_deg_new, sep = ',')\n",
    "genes_new = df_new.gene.tolist()\n",
    "df_new.head(2)"
   ]
  },
  {
   "cell_type": "code",
   "execution_count": 26,
   "metadata": {},
   "outputs": [
    {
     "data": {
      "text/html": [
       "<div>\n",
       "<style scoped>\n",
       "    .dataframe tbody tr th:only-of-type {\n",
       "        vertical-align: middle;\n",
       "    }\n",
       "\n",
       "    .dataframe tbody tr th {\n",
       "        vertical-align: top;\n",
       "    }\n",
       "\n",
       "    .dataframe thead th {\n",
       "        text-align: right;\n",
       "    }\n",
       "</style>\n",
       "<table border=\"1\" class=\"dataframe\">\n",
       "  <thead>\n",
       "    <tr style=\"text-align: right;\">\n",
       "      <th></th>\n",
       "      <th>Gene</th>\n",
       "      <th>log2FC</th>\n",
       "    </tr>\n",
       "  </thead>\n",
       "  <tbody>\n",
       "    <tr>\n",
       "      <th>0</th>\n",
       "      <td>TRIAE_CS42_2BL_TGACv1_130477_AA0412140</td>\n",
       "      <td>-2.456314</td>\n",
       "    </tr>\n",
       "    <tr>\n",
       "      <th>1</th>\n",
       "      <td>TRIAE_CS42_7AS_TGACv1_570678_AA1839270</td>\n",
       "      <td>4.295336</td>\n",
       "    </tr>\n",
       "  </tbody>\n",
       "</table>\n",
       "</div>"
      ],
      "text/plain": [
       "                                     Gene    log2FC\n",
       "0  TRIAE_CS42_2BL_TGACv1_130477_AA0412140 -2.456314\n",
       "1  TRIAE_CS42_7AS_TGACv1_570678_AA1839270  4.295336"
      ]
     },
     "execution_count": 26,
     "metadata": {},
     "output_type": "execute_result"
    }
   ],
   "source": [
    "df_pre = pd.read_csv(file_deg_pre, sep = '\\t')\n",
    "genes_prev = df_pre.Gene.tolist() \n",
    "df_pre.head(2)"
   ]
  },
  {
   "cell_type": "code",
   "execution_count": null,
   "metadata": {},
   "outputs": [],
   "source": [
    "buffer_seqs = {}\n",
    "gene_lists = {'new': genes_new,'prev': genes_prev}\n",
    "for name, gene_list in gene_lists.items():\n",
    "    buffer_seqs[name] = []\n",
    "    cont = 0\n",
    "    for gene in gene_list:\n",
    "        df_extract = df_gff[(df_gff.attribute.str.contains('ID='+gene)) & (df_gff.feature=='gene')]\n",
    "        gene_gff = df_extract.iloc[0]\n",
    "        if gene_gff.start > gene_gff.end:\n",
    "            end = gene_gff.start\n",
    "            start = gene_gff.end\n",
    "        else:\n",
    "            end = gene_gff.end\n",
    "            start = gene_gff.start\n",
    "        for k,v in fasta_index.items():\n",
    "            if k == gene:\n",
    "                clean_seq = ''.join(str(record_dict[gene].seq).splitlines())\n",
    "                new_seq = clean_seq[start:end]\n",
    "                att = gene_gff.attribute\n",
    "                desc = \"seq:\" + str(record.id)\n",
    "                desc += \" start:\" + str(gene_gff.start)\n",
    "                desc += \" end:\" + str(gene_gff.end)\n",
    "                desc += \" strand:\" + str(gene_gff.strand)\n",
    "                seq = SeqRecord(Seq(new_seq), id=gene, description=desc)\n",
    "                buffer_seqs[name].append(seq)\n"
   ]
  },
  {
   "cell_type": "code",
   "execution_count": null,
   "metadata": {},
   "outputs": [],
   "source": [
    "for name, gene_list in gene_lists.items():\n",
    "    SeqIO.write(buffer_seqs[name], name + '.fasta', \"fasta\")"
   ]
  },
  {
   "cell_type": "code",
   "execution_count": null,
   "metadata": {},
   "outputs": [],
   "source": []
  },
  {
   "cell_type": "code",
   "execution_count": 33,
   "metadata": {},
   "outputs": [
    {
     "data": {
      "text/plain": [
       "('chr1A',\n",
       " SeqRecord(seq=Seq('CTAAACCCTAAACCCTAAACCCTAAACCCTAAACCCCTAACCCTAAACCCTAAC...TCc', SingleLetterAlphabet()), id='chr1A', name='chr1A', description='chr1A', dbxrefs=[]))"
      ]
     },
     "execution_count": 33,
     "metadata": {},
     "output_type": "execute_result"
    }
   ],
   "source": [
    "next(fasta_index.items())"
   ]
  },
  {
   "cell_type": "code",
   "execution_count": null,
   "metadata": {},
   "outputs": [],
   "source": []
  }
 ],
 "metadata": {
  "kernelspec": {
   "display_name": "Python 3",
   "language": "python",
   "name": "python3"
  },
  "language_info": {
   "codemirror_mode": {
    "name": "ipython",
    "version": 3
   },
   "file_extension": ".py",
   "mimetype": "text/x-python",
   "name": "python",
   "nbconvert_exporter": "python",
   "pygments_lexer": "ipython3",
   "version": "3.6.5"
  }
 },
 "nbformat": 4,
 "nbformat_minor": 2
}

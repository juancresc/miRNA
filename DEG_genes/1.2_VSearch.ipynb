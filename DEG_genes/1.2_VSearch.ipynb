{
 "cells": [
  {
   "cell_type": "code",
   "execution_count": null,
   "metadata": {},
   "outputs": [],
   "source": [
    "# /home/juan/Desktop/juan/bio/sw/vsearch-2.9.0/bin/vsearch --cluster_fast /home/juan/Desktop/juan/bio/mrcv/data/genes.fasta --consout /home/juan/Desktop/juan/bio/mrcv/data/genes.cluster.fasta --threads 2 --strand both --clusters /home/juan/Desktop/juan/bio/mrcv/data/clusters/clust --iddef 1 --id 0.95\n"
   ]
  },
  {
   "cell_type": "code",
   "execution_count": null,
   "metadata": {},
   "outputs": [],
   "source": []
  }
 ],
 "metadata": {
  "kernelspec": {
   "display_name": "Python 3",
   "language": "python",
   "name": "python3"
  },
  "language_info": {
   "codemirror_mode": {
    "name": "ipython",
    "version": 3
   },
   "file_extension": ".py",
   "mimetype": "text/x-python",
   "name": "python",
   "nbconvert_exporter": "python",
   "pygments_lexer": "ipython3",
   "version": "3.6.5"
  }
 },
 "nbformat": 4,
 "nbformat_minor": 2
}

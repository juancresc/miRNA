{
 "cells": [
  {
   "cell_type": "code",
   "execution_count": 5,
   "metadata": {},
   "outputs": [],
   "source": [
    "import dask.dataframe as dd\n",
    "from dask.multiprocessing import get\n",
    "import pandas as pd\n",
    "pd.set_option('display.max_colwidth', -1)"
   ]
  },
  {
   "cell_type": "code",
   "execution_count": 6,
   "metadata": {},
   "outputs": [
    {
     "name": "stdout",
     "output_type": "stream",
     "text": [
      "Total:  28845\n",
      "Total DE:  43\n",
      "Total DE filtered:  43\n"
     ]
    }
   ],
   "source": [
    "srna_file = 'data/21dpi_tgac/ShortStack_D.gff3'\n",
    "df = pd.read_csv(srna_file,sep=\"\\t\",header=None)\n",
    "df.columns = ['seqname', 'source', 'feature', 'start', 'end', 'score', 'strand', 'frame', 'attribute']\n",
    "print('Total: ',len(df.index))\n",
    "\n",
    "de_file = 'data/files/diffexpr-results.0.05.csv'\n",
    "df_de_clus = pd.read_csv(de_file,sep=\",\")\n",
    "print('Total DE: ',len(df_de_clus.index))\n",
    "\n",
    "\n",
    "gene_list = df_de_clus.Gene.tolist()\n",
    "def filter(s):\n",
    "    s = s.split(';')[0].split('=')[1]\n",
    "    for i in gene_list:\n",
    "        if s == i:\n",
    "            return True\n",
    "    return False\n",
    "\n",
    "#shortstack gff results that are DE\n",
    "df_de = df[df.attribute.apply(lambda s: filter(s))]\n",
    "print('Total DE filtered: ',len(df_de.index))"
   ]
  },
  {
   "cell_type": "code",
   "execution_count": null,
   "metadata": {},
   "outputs": [],
   "source": []
  },
  {
   "cell_type": "code",
   "execution_count": 7,
   "metadata": {},
   "outputs": [],
   "source": [
    "df_de.to_csv('data/files/mirna_de.csv',sep='\\t',index=None)"
   ]
  },
  {
   "cell_type": "code",
   "execution_count": 10,
   "metadata": {},
   "outputs": [
    {
     "name": "stdout",
     "output_type": "stream",
     "text": [
      "all_srna repbase 87\n",
      "all_srna trep 155\n",
      "all_srna tracker 2690\n",
      "all_srna genes 4853\n",
      "all_srna promoters 9394\n",
      "de_srna repbase 0\n",
      "de_srna trep 0\n",
      "de_srna tracker 1\n",
      "de_srna genes 12\n",
      "de_srna promoters 7\n"
     ]
    }
   ],
   "source": [
    "#comes from X\n",
    "froms = []\n",
    "\n",
    "df_from = pd.read_csv('data/cross/repbase.gff',sep=\"\\t\")\n",
    "df_from.columns = ['seqname', 'source', 'feature', 'start', 'end', 'score', 'strand', 'frame', 'attribute']\n",
    "froms.append(('repbase',df_from))\n",
    "\n",
    "df_from = pd.read_csv('data/cross/trep.gff',sep=\"\\t\")\n",
    "df_from.columns = ['seqname', 'source', 'feature', 'start', 'end', 'score', 'strand', 'frame', 'attribute']\n",
    "froms.append(('trep',df_from))\n",
    "\n",
    "df_from = pd.read_csv('data/cross/tracker.gff',sep=\"\\t\")\n",
    "df_from.columns = ['seqname', 'source', 'feature', 'start', 'end', 'score', 'strand', 'frame', 'attribute']\n",
    "froms.append(('tracker',df_from))\n",
    "\n",
    "df_from = pd.read_csv('data/cross/genes.gff',sep=\"\\t\")\n",
    "df_from.columns = ['seqname', 'source', 'feature', 'start', 'end', 'score', 'strand', 'frame', 'attribute']\n",
    "froms.append(('genes',df_from))\n",
    "\n",
    "df_from = pd.read_csv('data/cross/promoters.gff',sep=\"\\t\")\n",
    "df_from.columns = ['seqname', 'source', 'feature', 'start', 'end', 'score', 'strand', 'frame', 'attribute']\n",
    "froms.append(('promoters',df_from))\n",
    "\n",
    "srna_type = []\n",
    "srna_type.append(('all_srna',df))\n",
    "srna_type.append(('de_srna',df_de))\n",
    "\n",
    "distance = 10\n",
    "for s_type in srna_type:\n",
    "    s_name = s_type[0]\n",
    "    s_df = s_type[1]\n",
    "    for f_from in froms:\n",
    "        df_from = f_from[1]\n",
    "        from_name = f_from[0]\n",
    "        filename = 'data/files/srna_' + s_name + '_' + from_name + '.csv'\n",
    "        f = open(filename, 'w')\n",
    "        f.close()\n",
    "        def filter(x):\n",
    "            start = x.start - distance\n",
    "            end = x.end + distance\n",
    "            df_res = df_from[(df_from.seqname == x.seqname) & (df_from.end >= start) & (df_from.start <= end)]\n",
    "            if len(df_res.index) == 0:\n",
    "                return False\n",
    "            with open(filename, 'a') as f:\n",
    "                f.write('\\t'.join(x.map(str))) # sRNA header\n",
    "                f.write('\\n')\n",
    "                f.write(df_res.to_string(header=False))\n",
    "                f.write('\\n')\n",
    "                f.write('-' * 5)\n",
    "                f.write('\\n')\n",
    "                f.close()\n",
    "            return True\n",
    "\n",
    "        ddata = dd.from_pandas(s_df, npartitions=7)\n",
    "        res = ddata.map_partitions(lambda s_df: s_df.apply(lambda x: filter(x), axis=1)).compute(get=get)  \n",
    "        df_res = s_df[res]\n",
    "        print(s_name, from_name, len(df_res.index))"
   ]
  },
  {
   "cell_type": "code",
   "execution_count": 145,
   "metadata": {},
   "outputs": [],
   "source": [
    "#repbase  87\n",
    "#Trep  155\n",
    "#Tracker  2690\n",
    "#Genes  5315\n",
    "\n",
    "#de_srna repbase 0\n",
    "#de_srna trep 0\n",
    "#de_srna tracker 1\n",
    "#de_srna genes 12\n",
    "\n",
    "#DF all 1188\n",
    "#de_srna repbase 0\n",
    "#de_srna trep 0\n",
    "#de_srna tracker 3\n",
    "#de_srna genes 15\n",
    "#de_srna promoters 11"
   ]
  },
  {
   "cell_type": "code",
   "execution_count": null,
   "metadata": {},
   "outputs": [],
   "source": [
    "sys.path"
   ]
  },
  {
   "cell_type": "code",
   "execution_count": null,
   "metadata": {},
   "outputs": [],
   "source": []
  },
  {
   "cell_type": "code",
   "execution_count": null,
   "metadata": {},
   "outputs": [],
   "source": []
  }
 ],
 "metadata": {
  "kernelspec": {
   "display_name": "Python 3",
   "language": "python",
   "name": "python3"
  },
  "language_info": {
   "codemirror_mode": {
    "name": "ipython",
    "version": 3
   },
   "file_extension": ".py",
   "mimetype": "text/x-python",
   "name": "python",
   "nbconvert_exporter": "python",
   "pygments_lexer": "ipython3",
   "version": "3.6.5"
  }
 },
 "nbformat": 4,
 "nbformat_minor": 2
}

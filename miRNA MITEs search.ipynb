{
 "cells": [
  {
   "cell_type": "code",
   "execution_count": 2,
   "metadata": {},
   "outputs": [],
   "source": [
    "import pandas as pd\n",
    "from Bio import SeqIO\n",
    "from random import shuffle\n",
    "from Bio.SeqRecord import SeqRecord\n",
    "from Bio.Seq import Seq"
   ]
  },
  {
   "cell_type": "code",
   "execution_count": 3,
   "metadata": {},
   "outputs": [
    {
     "name": "stdout",
     "output_type": "stream",
     "text": [
      "Total sRNA:  28844\n",
      "miRNAs clusters: 28845\n"
     ]
    }
   ],
   "source": [
    "file_srna = 'data/21dpi_tgac/ShortStack_D.gff3'\n",
    "df_srna = pd.read_csv(file_srna,sep=\"\\t\")\n",
    "df_srna.columns = ['seqname', 'source', 'feature', 'start', 'end', 'score', 'strand', 'frame', 'attribute']\n",
    "print('Total sRNA: ',len(df_srna.index))\n",
    "\n",
    "\n",
    "file_results = 'data/21dpi_tgac/Results.txt'\n",
    "df_mirna = pd.read_csv(file_results, delimiter='\\t')\n",
    "df_mirna = df_mirna[df_mirna.DicerCall != 'N']\n",
    "print('miRNAs clusters:', len(df_mirna.index))"
   ]
  },
  {
   "cell_type": "code",
   "execution_count": 22,
   "metadata": {},
   "outputs": [
    {
     "data": {
      "text/plain": [
       "28845"
      ]
     },
     "execution_count": 22,
     "metadata": {},
     "output_type": "execute_result"
    }
   ],
   "source": [
    "buff = []\n",
    "for k,v in df_mirna.iterrows():\n",
    "    micro = v.MajorRNA.replace('U','T')\n",
    "    seq = SeqRecord(Seq(micro), id=v.Name, description=\"_\")\n",
    "    buff.append(seq)\n",
    "SeqIO.write(buff, 'data/files/miRNA_d.fasta', \"fasta\")"
   ]
  },
  {
   "cell_type": "code",
   "execution_count": 7,
   "metadata": {},
   "outputs": [
    {
     "name": "stdout",
     "output_type": "stream",
     "text": [
      "Total DE:  43\n"
     ]
    }
   ],
   "source": [
    "de_file = 'data/files/diffexpr-results.0.05.csv'\n",
    "df_de_clus = pd.read_csv(de_file,sep=\",\")\n",
    "print('Total DE: ',len(df_de_clus.index))\n",
    "gene_list = list(df_de_clus.Gene.tolist())\n",
    "df_mirna_de = df_mirna[df_mirna.Name.isin(gene_list)]"
   ]
  },
  {
   "cell_type": "code",
   "execution_count": 9,
   "metadata": {},
   "outputs": [
    {
     "data": {
      "text/plain": [
       "43"
      ]
     },
     "execution_count": 9,
     "metadata": {},
     "output_type": "execute_result"
    }
   ],
   "source": [
    "\n",
    "buff = []\n",
    "for k,v in df_mirna_de.iterrows():\n",
    "    micro = v.MajorRNA.replace('U','T')\n",
    "    seq = SeqRecord(Seq(micro), id=v.Name, description=\"_\")\n",
    "    buff.append(seq)\n",
    "SeqIO.write(buff, 'data/files/miRNA_DE_D.fasta', \"fasta\")"
   ]
  },
  {
   "cell_type": "code",
   "execution_count": null,
   "metadata": {},
   "outputs": [],
   "source": []
  }
 ],
 "metadata": {
  "kernelspec": {
   "display_name": "Python 3",
   "language": "python",
   "name": "python3"
  },
  "language_info": {
   "codemirror_mode": {
    "name": "ipython",
    "version": 3
   },
   "file_extension": ".py",
   "mimetype": "text/x-python",
   "name": "python",
   "nbconvert_exporter": "python",
   "pygments_lexer": "ipython3",
   "version": "3.6.5"
  }
 },
 "nbformat": 4,
 "nbformat_minor": 2
}

{
 "cells": [
  {
   "cell_type": "code",
   "execution_count": 19,
   "metadata": {},
   "outputs": [],
   "source": [
    "from Bio import SeqIO\n",
    "from Bio.SeqRecord import SeqRecord\n",
    "from Bio.Seq import Seq\n",
    "import pandas as pd\n",
    "from Bio import pairwise2\n",
    "from Bio.pairwise2 import format_alignment"
   ]
  },
  {
   "cell_type": "code",
   "execution_count": 30,
   "metadata": {},
   "outputs": [
    {
     "name": "stdout",
     "output_type": "stream",
     "text": [
      "miRNAs clusters: 139\n"
     ]
    }
   ],
   "source": [
    "file_results = 'data/21dpi_tgac/Results.txt'\n",
    "df_mirna = pd.read_csv(file_results, delimiter='\\t')\n",
    "df_mirna = df_mirna[df_mirna.MIRNA == 'Y']\n",
    "print('miRNAs clusters:', len(df_mirna.index))"
   ]
  },
  {
   "cell_type": "code",
   "execution_count": null,
   "metadata": {},
   "outputs": [],
   "source": [
    "mirbase = SeqIO.parse('data/mature.fa', 'fasta')\n",
    "_8 = _9 = _1 = 0\n",
    "_8d = _9d = _1d = {}\n",
    "for mirbase_s in mirbase:\n",
    "    for ss_seq in df_mirna.MajorRNA:\n",
    "        value = pairwise2.align.localms(mirbase_s.seq, ss_seq, 1, -1, -1, -1,score_only=True)\n",
    "        if value / len(ss_seq) > 0.8:\n",
    "            _8d[ss_seq] = 1\n",
    "            _8 += 1\n",
    "        if value / len(ss_seq) > 0.9:\n",
    "            _9 += 1\n",
    "            _9d[ss_seq] = 1\n",
    "        if value / len(ss_seq) == 1:\n",
    "            _1 += 1\n",
    "            _1d[ss_seq] = 1\n",
    "print(len(_8d), len(_9d), len(_1d))"
   ]
  },
  {
   "cell_type": "code",
   "execution_count": 18,
   "metadata": {},
   "outputs": [
    {
     "data": {
      "text/plain": [
       "[('UGAGGUAGUAGG-UUGUAUAGUU', '--UCGGACCAGGCUUCAAUCCCU', 4.0, 9, 19),\n",
       " ('UGAGGUAGUAGG-UUGUAUAGUU', '--UCGGACCAGGCUUCAAUCCCU', 4.0, 9, 15)]"
      ]
     },
     "execution_count": 18,
     "metadata": {},
     "output_type": "execute_result"
    }
   ],
   "source": [
    "pairwise2.align.localms(mirbase_s.seq, ss_seq, 1, -1, -1, -1)"
   ]
  },
  {
   "cell_type": "code",
   "execution_count": null,
   "metadata": {},
   "outputs": [],
   "source": []
  }
 ],
 "metadata": {
  "kernelspec": {
   "display_name": "Python 3",
   "language": "python",
   "name": "python3"
  },
  "language_info": {
   "codemirror_mode": {
    "name": "ipython",
    "version": 3
   },
   "file_extension": ".py",
   "mimetype": "text/x-python",
   "name": "python",
   "nbconvert_exporter": "python",
   "pygments_lexer": "ipython3",
   "version": "3.6.5"
  }
 },
 "nbformat": 4,
 "nbformat_minor": 2
}

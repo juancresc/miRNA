{
 "cells": [
  {
   "cell_type": "code",
   "execution_count": 2,
   "metadata": {},
   "outputs": [],
   "source": [
    "import pandas as pd\n",
    "lb = '21dpi_tgac'\n",
    "lb = '21dpi_iwgsc'"
   ]
  },
  {
   "cell_type": "code",
   "execution_count": 5,
   "metadata": {},
   "outputs": [
    {
     "name": "stdout",
     "output_type": "stream",
     "text": [
      "Res len: 3267\n",
      "Total:  28759\n",
      "Total valid: 28759\n"
     ]
    }
   ],
   "source": [
    "srna_file = 'data/' + lb + '/ShortStack_D.gff3'\n",
    "df = pd.read_csv(srna_file,sep=\"\\t\",header=None)\n",
    "df.columns = ['seqname', 'source', 'feature', 'start', 'end', 'score', 'strand', 'frame', 'attribute']\n",
    "\n",
    "results_file = 'data/' + lb + '/Results.txt'\n",
    "df_res = pd.read_csv(results_file,sep=\"\\t\")\n",
    "df_res = df_res[df_res.MajorRNA.str.len().isin([20, 21,22])]\n",
    "print('Res len:',len(df_res.index))\n",
    "\n",
    "print('Total: ',len(df.index))\n",
    "df['cluster'] = df.attribute.str.split(';').str.get(0)\n",
    "df['cluster'] = df.cluster.str.split('=').str.get(1)\n",
    "\n",
    "counts_file = 'data/' + lb + '/counts.clean.txt'\n",
    "df_counts = pd.read_csv(counts_file,sep=\"\\t\")\n",
    "\n",
    "df_valid = df_counts[df_counts.Name.isin(df.cluster)]\n",
    "print('Total valid:', len(df_valid.index))"
   ]
  },
  {
   "cell_type": "code",
   "execution_count": 6,
   "metadata": {},
   "outputs": [
    {
     "name": "stdout",
     "output_type": "stream",
     "text": [
      "3267\n"
     ]
    }
   ],
   "source": [
    "f = open(results_file,'r')\n",
    "count = 0\n",
    "for line in f:\n",
    "    line = line.split('\\t')\n",
    "    if len(line[8]) in [20,21,22]:\n",
    "        count += 1\n",
    "print(count)"
   ]
  },
  {
   "cell_type": "code",
   "execution_count": 7,
   "metadata": {},
   "outputs": [],
   "source": [
    "df_valid.to_csv('data/' + lb + '/valid_counts.csv',sep='\\t',index=False)"
   ]
  },
  {
   "cell_type": "code",
   "execution_count": 8,
   "metadata": {},
   "outputs": [
    {
     "data": {
      "text/html": [
       "<div>\n",
       "<style scoped>\n",
       "    .dataframe tbody tr th:only-of-type {\n",
       "        vertical-align: middle;\n",
       "    }\n",
       "\n",
       "    .dataframe tbody tr th {\n",
       "        vertical-align: top;\n",
       "    }\n",
       "\n",
       "    .dataframe thead th {\n",
       "        text-align: right;\n",
       "    }\n",
       "</style>\n",
       "<table border=\"1\" class=\"dataframe\">\n",
       "  <thead>\n",
       "    <tr style=\"text-align: right;\">\n",
       "      <th></th>\n",
       "      <th>Locus</th>\n",
       "      <th>Name</th>\n",
       "      <th>main</th>\n",
       "      <th>21dpiR1C.trimmed</th>\n",
       "      <th>21dpiR1T.trimmed</th>\n",
       "      <th>21dpiR3C.trimmed</th>\n",
       "      <th>21dpiR3T.trimmed</th>\n",
       "    </tr>\n",
       "  </thead>\n",
       "  <tbody>\n",
       "    <tr>\n",
       "      <th>121</th>\n",
       "      <td>chr1A:227106-227333</td>\n",
       "      <td>Cluster_122</td>\n",
       "      <td>79</td>\n",
       "      <td>28</td>\n",
       "      <td>21</td>\n",
       "      <td>15</td>\n",
       "      <td>15</td>\n",
       "    </tr>\n",
       "    <tr>\n",
       "      <th>266</th>\n",
       "      <td>chr1A:1314729-1315026</td>\n",
       "      <td>Cluster_267</td>\n",
       "      <td>185</td>\n",
       "      <td>45</td>\n",
       "      <td>49</td>\n",
       "      <td>49</td>\n",
       "      <td>42</td>\n",
       "    </tr>\n",
       "  </tbody>\n",
       "</table>\n",
       "</div>"
      ],
      "text/plain": [
       "                     Locus         Name  main  21dpiR1C.trimmed  \\\n",
       "121    chr1A:227106-227333  Cluster_122    79                28   \n",
       "266  chr1A:1314729-1315026  Cluster_267   185                45   \n",
       "\n",
       "     21dpiR1T.trimmed  21dpiR3C.trimmed  21dpiR3T.trimmed  \n",
       "121                21                15                15  \n",
       "266                49                49                42  "
      ]
     },
     "execution_count": 8,
     "metadata": {},
     "output_type": "execute_result"
    }
   ],
   "source": [
    "df_valid.head(2)"
   ]
  },
  {
   "cell_type": "code",
   "execution_count": null,
   "metadata": {},
   "outputs": [],
   "source": []
  },
  {
   "cell_type": "code",
   "execution_count": null,
   "metadata": {},
   "outputs": [],
   "source": []
  },
  {
   "cell_type": "code",
   "execution_count": null,
   "metadata": {},
   "outputs": [],
   "source": []
  }
 ],
 "metadata": {
  "kernelspec": {
   "display_name": "Python 3",
   "language": "python",
   "name": "python3"
  },
  "language_info": {
   "codemirror_mode": {
    "name": "ipython",
    "version": 3
   },
   "file_extension": ".py",
   "mimetype": "text/x-python",
   "name": "python",
   "nbconvert_exporter": "python",
   "pygments_lexer": "ipython3",
   "version": "3.6.5"
  }
 },
 "nbformat": 4,
 "nbformat_minor": 2
}

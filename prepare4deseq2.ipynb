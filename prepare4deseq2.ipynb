{
 "cells": [
  {
   "cell_type": "code",
   "execution_count": 1,
   "metadata": {},
   "outputs": [],
   "source": [
    "import pandas as pd"
   ]
  },
  {
   "cell_type": "code",
   "execution_count": 2,
   "metadata": {},
   "outputs": [
    {
     "name": "stdout",
     "output_type": "stream",
     "text": [
      "Res len: 3304\n",
      "Total:  28845\n",
      "Total valid: 28845\n"
     ]
    }
   ],
   "source": [
    "srna_file = 'data/21dpi_tgac/ShortStack_D.gff3'\n",
    "df = pd.read_csv(srna_file,sep=\"\\t\",header=None)\n",
    "df.columns = ['seqname', 'source', 'feature', 'start', 'end', 'score', 'strand', 'frame', 'attribute']\n",
    "\n",
    "results_file = 'data/21dpi_tgac/Results.txt'\n",
    "df_res = pd.read_csv(results_file,sep=\"\\t\")\n",
    "df_res = df_res[df_res.MajorRNA.str.len().isin([20, 21,22])]\n",
    "print('Res len:',len(df_res.index))\n",
    "\n",
    "print('Total: ',len(df.index))\n",
    "df['cluster'] = df.attribute.str.split(';').str.get(0)\n",
    "df['cluster'] = df.cluster.str.split('=').str.get(1)\n",
    "\n",
    "counts_file = 'data/files/counts.clean.txt'\n",
    "df_counts = pd.read_csv(counts_file,sep=\"\\t\")\n",
    "\n",
    "df_valid = df_counts[df_counts.Name.isin(df.cluster)]\n",
    "print('Total valid:', len(df_valid.index))"
   ]
  },
  {
   "cell_type": "code",
   "execution_count": 3,
   "metadata": {},
   "outputs": [
    {
     "name": "stdout",
     "output_type": "stream",
     "text": [
      "3304\n"
     ]
    }
   ],
   "source": [
    "f = open(results_file,'r')\n",
    "count = 0\n",
    "for line in f:\n",
    "    line = line.split('\\t')\n",
    "    if len(line[8]) in [20,21,22]:\n",
    "        count += 1\n",
    "print(count)"
   ]
  },
  {
   "cell_type": "code",
   "execution_count": 4,
   "metadata": {},
   "outputs": [],
   "source": [
    "df_valid.to_csv('data/files/valid_counts.csv',sep='\\t',index=False)"
   ]
  },
  {
   "cell_type": "code",
   "execution_count": 5,
   "metadata": {},
   "outputs": [
    {
     "data": {
      "text/html": [
       "<div>\n",
       "<style scoped>\n",
       "    .dataframe tbody tr th:only-of-type {\n",
       "        vertical-align: middle;\n",
       "    }\n",
       "\n",
       "    .dataframe tbody tr th {\n",
       "        vertical-align: top;\n",
       "    }\n",
       "\n",
       "    .dataframe thead th {\n",
       "        text-align: right;\n",
       "    }\n",
       "</style>\n",
       "<table border=\"1\" class=\"dataframe\">\n",
       "  <thead>\n",
       "    <tr style=\"text-align: right;\">\n",
       "      <th></th>\n",
       "      <th>Locus</th>\n",
       "      <th>Name</th>\n",
       "      <th>main</th>\n",
       "      <th>21dpiR1C.trimmed</th>\n",
       "      <th>21dpiR1T.trimmed</th>\n",
       "      <th>21dpiR3C.trimmed</th>\n",
       "      <th>21dpiR3T.trimmed</th>\n",
       "    </tr>\n",
       "  </thead>\n",
       "  <tbody>\n",
       "    <tr>\n",
       "      <th>55</th>\n",
       "      <td>TGACv1_scaffold_576745_7BL:247579-247903</td>\n",
       "      <td>Cluster_56</td>\n",
       "      <td>221</td>\n",
       "      <td>55</td>\n",
       "      <td>63</td>\n",
       "      <td>54</td>\n",
       "      <td>49</td>\n",
       "    </tr>\n",
       "    <tr>\n",
       "      <th>56</th>\n",
       "      <td>TGACv1_scaffold_640690_U:727543-727844</td>\n",
       "      <td>Cluster_57</td>\n",
       "      <td>77</td>\n",
       "      <td>22</td>\n",
       "      <td>23</td>\n",
       "      <td>12</td>\n",
       "      <td>20</td>\n",
       "    </tr>\n",
       "  </tbody>\n",
       "</table>\n",
       "</div>"
      ],
      "text/plain": [
       "                                       Locus        Name  main  \\\n",
       "55  TGACv1_scaffold_576745_7BL:247579-247903  Cluster_56   221   \n",
       "56    TGACv1_scaffold_640690_U:727543-727844  Cluster_57    77   \n",
       "\n",
       "    21dpiR1C.trimmed  21dpiR1T.trimmed  21dpiR3C.trimmed  21dpiR3T.trimmed  \n",
       "55                55                63                54                49  \n",
       "56                22                23                12                20  "
      ]
     },
     "execution_count": 5,
     "metadata": {},
     "output_type": "execute_result"
    }
   ],
   "source": [
    "df_valid.head(2)"
   ]
  },
  {
   "cell_type": "code",
   "execution_count": null,
   "metadata": {},
   "outputs": [],
   "source": []
  },
  {
   "cell_type": "code",
   "execution_count": null,
   "metadata": {},
   "outputs": [],
   "source": []
  },
  {
   "cell_type": "code",
   "execution_count": null,
   "metadata": {},
   "outputs": [],
   "source": []
  }
 ],
 "metadata": {
  "kernelspec": {
   "display_name": "Python 3",
   "language": "python",
   "name": "python3"
  },
  "language_info": {
   "codemirror_mode": {
    "name": "ipython",
    "version": 3
   },
   "file_extension": ".py",
   "mimetype": "text/x-python",
   "name": "python",
   "nbconvert_exporter": "python",
   "pygments_lexer": "ipython3",
   "version": "3.6.5"
  }
 },
 "nbformat": 4,
 "nbformat_minor": 2
}

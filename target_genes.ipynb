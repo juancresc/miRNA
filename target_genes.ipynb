{
 "cells": [
  {
   "cell_type": "code",
   "execution_count": 1,
   "metadata": {},
   "outputs": [],
   "source": [
    "import pandas as pd\n",
    "import os"
   ]
  },
  {
   "cell_type": "code",
   "execution_count": 2,
   "metadata": {},
   "outputs": [],
   "source": [
    "import sys\n",
    "def in_notebook():\n",
    "    return 'ipykernel' in sys.modules"
   ]
  },
  {
   "cell_type": "code",
   "execution_count": 62,
   "metadata": {},
   "outputs": [],
   "source": [
    "if not in_notebook():\n",
    "    import argparse\n",
    "    parser = argparse.ArgumentParser()\n",
    "    parser.add_argument(\"-g\", \"--gene_ann\", help=\"Genes annotation\", required=True)\n",
    "    parser.add_argument(\"-c\", \"--cdna\", help=\"Genes annotation\", required=True)\n",
    "    parser.add_argument(\"-d\", \"--deg\", help=\"DEG genes\", required=True)\n",
    "    parser.add_argument(\"-s\", \"--ss\", help=\"Shorstack results\", required=True)\n",
    "    parser.add_argument(\"--deseq\", help=\"DEG genes\", required=True)\n",
    "    args = parser.parse_args()\n",
    "    file_cdna = args.cdna\n",
    "    file_deseq = args.deseq\n",
    "    file_deg = args.deg\n",
    "    file_results = args.ss\n",
    "else:\n",
    "    file_cdna = '/Volumes/toshiba/bio/TGAC/Triticum_aestivum.TGACv1.cdna.all.fa'\n",
    "    file_results = 'data/21dpi_tgac/Results.txt'\n",
    "    file_mart = 'data/mart_export.txt'\n",
    "    file_deg = 'data/DEGs_by_RNAseq_21dpi_wheat.txt'\n",
    "    file_deseq = 'data/files/diffexpr-results.0.1.csv'"
   ]
  },
  {
   "cell_type": "code",
   "execution_count": 4,
   "metadata": {},
   "outputs": [
    {
     "name": "stdout",
     "output_type": "stream",
     "text": [
      "DEs genes: 3233\n"
     ]
    }
   ],
   "source": [
    "#load DE genes\n",
    "df_degenes = pd.read_csv(file_deg, delimiter='\\t')\n",
    "print('DEs genes:',len(df_degenes.index))"
   ]
  },
  {
   "cell_type": "code",
   "execution_count": 6,
   "metadata": {},
   "outputs": [
    {
     "data": {
      "text/plain": [
       "5724"
      ]
     },
     "execution_count": 6,
     "metadata": {},
     "output_type": "execute_result"
    }
   ],
   "source": [
    "#load and extract sequences\n",
    "from Bio import SeqIO\n",
    "from Bio.SeqRecord import SeqRecord\n",
    "from Bio.Seq import Seq\n",
    "fasta_seq = SeqIO.parse(file_cdna, 'fasta')\n",
    "buff = []\n",
    "gene_list = df_degenes.Gene.tolist()\n",
    "dones = []\n",
    "for record in fasta_seq:\n",
    "    gene_name = record.id[:record.id.find('.')]\n",
    "    if not gene_name in gene_list or gene_name in dones:\n",
    "        dones.append(gene_name)\n",
    "        continue\n",
    "    buff.append(record)\n",
    "SeqIO.write(buff, 'data/files/DEseqs.fa', \"fasta\")"
   ]
  },
  {
   "cell_type": "code",
   "execution_count": 5,
   "metadata": {},
   "outputs": [
    {
     "name": "stdout",
     "output_type": "stream",
     "text": [
      "miRNAs clusters: 28845\n",
      "DE miRNA clusters: 46\n"
     ]
    }
   ],
   "source": [
    "#search DE clusters\n",
    "df_deseq = pd.read_csv(file_deseq,sep=',')\n",
    "\n",
    "#load miRNA results file\n",
    "df_mirna = pd.read_csv(file_results, delimiter='\\t')\n",
    "df_mirna = df_mirna[df_mirna.DicerCall != 'N']\n",
    "print('miRNAs clusters:', len(df_mirna.index))\n",
    "\n",
    "#DE miRNA\n",
    "df_de_clusters = df_mirna[df_mirna.Name.isin(df_deseq.Gene)]\n",
    "print('DE miRNA clusters:', len(df_de_clusters.index))"
   ]
  },
  {
   "cell_type": "code",
   "execution_count": null,
   "metadata": {},
   "outputs": [],
   "source": []
  },
  {
   "cell_type": "code",
   "execution_count": 25,
   "metadata": {},
   "outputs": [
    {
     "name": "stdout",
     "output_type": "stream",
     "text": [
      "./scripts/TargetFinder/targetfinder.pl -s UCCAUUUGUUGUUUUGAUUUC -q Cluster_1056 -d data/files/DEseqs.fa -p gff\n",
      "b'TRIAE_CS42_5BS_TGACv1_423326_AA1374380.1 cdna scaffold:TGACv1:TGACv1_scaffold_423326_5BS:51756\\ttargetfinder\\trna_target\\t60\\t80\\t4\\t+\\t.\\tsmallRNA=Cluster_1056;target_seq=GAGAGAAAAACAAUAAAUGGG;base_pairs=::.:  :::::::.::::::.;miR_seq=CUUUAGUUUUGUUGUUUACCU\\n' b''\n",
      "./scripts/TargetFinder/targetfinder.pl -s UCCGAGGAUACUGAUGGACAG -q Cluster_1119 -d data/files/DEseqs.fa -p gff\n",
      "b'No results for Cluster_1119\\n' b''\n",
      "./scripts/TargetFinder/targetfinder.pl -s AUAGAAGAAAGAACACAAAAA -q Cluster_2573 -d data/files/DEseqs.fa -p gff\n",
      "b'TRIAE_CS42_6BS_TGACv1_515176_AA1667880.3 cdna scaffold:TGACv1:TGACv1_scaffold_515176_6BS:6256:\\ttargetfinder\\trna_target\\t2178\\t2198\\t4\\t+\\t.\\tsmallRNA=Cluster_2573;target_seq=UUUGUUUUUUCUUUCUUCUGU;base_pairs=::: : : :::::::::::.:;miR_seq=AAAAACACAAGAAAGAAGAUA\\nTRIAE_CS42_6BS_TGACv1_515176_AA1667880.2 cdna scaffold:TGACv1:TGACv1_scaffold_515176_6BS:6256:\\ttargetfinder\\trna_target\\t1994\\t2014\\t4\\t+\\t.\\tsmallRNA=Cluster_2573;target_seq=UUUGUUUUUUCUUUCUUCUGU;base_pairs=::: : : :::::::::::.:;miR_seq=AAAAACACAAGAAAGAAGAUA\\nTRIAE_CS42_6BS_TGACv1_515176_AA1667880.1 cdna scaffold:TGACv1:TGACv1_scaffold_515176_6BS:6256:\\ttargetfinder\\trna_target\\t1908\\t1928\\t4\\t+\\t.\\tsmallRNA=Cluster_2573;target_seq=UUUGUUUUUUCUUUCUUCUGU;base_pairs=::: : : :::::::::::.:;miR_seq=AAAAACACAAGAAAGAAGAUA\\nTRIAE_CS42_2AS_TGACv1_113199_AA0352960.1 cdna scaffold:TGACv1:TGACv1_scaffold_113199_2AS:75425\\ttargetfinder\\trna_target\\t3425\\t3445\\t4\\t+\\t.\\tsmallRNA=Cluster_2573;target_seq=UCUUUGGUUUCUUUCUUCUAC;base_pairs=: ::::  :::::::::::: ;miR_seq=AAAAACACAAGAAAGAAGAUA\\n' b''\n",
      "./scripts/TargetFinder/targetfinder.pl -s AGAACCCAAUCGGAAAUAAAACCU -q Cluster_2754 -d data/files/DEseqs.fa -p gff\n",
      "b'No results for Cluster_2754\\n' b''\n",
      "./scripts/TargetFinder/targetfinder.pl -s GCACUCACUAAAUUUGGACAG -q Cluster_3586 -d data/files/DEseqs.fa -p gff\n",
      "b'No results for Cluster_3586\\n' b''\n",
      "./scripts/TargetFinder/targetfinder.pl -s ACGACAAACUGAUGACAAACC -q Cluster_4071 -d data/files/DEseqs.fa -p gff\n",
      "b'TRIAE_CS42_1BL_TGACv1_032007_AA0124140.1 cdna scaffold:TGACv1:TGACv1_scaffold_032007_1BL:48633\\ttargetfinder\\trna_target\\t1582\\t1601\\t4\\t+\\t.\\tsmallRNA=Cluster_4071;target_seq=GGUAUG-CAUCGGUUUGUCGC;base_pairs=::: :: ::::.:::::::: ;miR_seq=CCAAACAGUAGUCAAACAGCA\\n' b''\n",
      "./scripts/TargetFinder/targetfinder.pl -s GUGAGAACUAUCGGAUGAGA -q Cluster_4827 -d data/files/DEseqs.fa -p gff\n",
      "b'TRIAE_CS42_3AL_TGACv1_198285_AA0668310.3 cdna scaffold:TGACv1:TGACv1_scaffold_198285_3AL:5966:\\ttargetfinder\\trna_target\\t441\\t460\\t3.5\\t+\\t.\\tsmallRNA=Cluster_4827;target_seq=UCUCGUCCGAUAGUUCUCUA;base_pairs=::::.:::::::::::::  ;miR_seq=AGAGUAGGCUAUCAAGAGUG\\n' b''\n",
      "./scripts/TargetFinder/targetfinder.pl -s UCGACAAGCUAGCUAGGACCC -q Cluster_4828 -d data/files/DEseqs.fa -p gff\n",
      "b'No results for Cluster_4828\\n' b''\n",
      "./scripts/TargetFinder/targetfinder.pl -s UUGGUUUUAUUGUGUUGAUGA -q Cluster_5823 -d data/files/DEseqs.fa -p gff\n",
      "b'TRIAE_CS42_5AL_TGACv1_376562_AA1238490.2 cdna scaffold:TGACv1:TGACv1_scaffold_376562_5AL:19236\\ttargetfinder\\trna_target\\t1981\\t2001\\t4\\t+\\t.\\tsmallRNA=Cluster_5823;target_seq=UUAAUAACACAAUAAACCCAA;base_pairs=:.: .::::::::::: ::::;miR_seq=AGUAGUUGUGUUAUUUUGGUU\\nTRIAE_CS42_5AL_TGACv1_376562_AA1238490.1 cdna scaffold:TGACv1:TGACv1_scaffold_376562_5AL:19120\\ttargetfinder\\trna_target\\t2811\\t2831\\t4\\t+\\t.\\tsmallRNA=Cluster_5823;target_seq=UUAAUAACACAAUAAACCCAA;base_pairs=:.: .::::::::::: ::::;miR_seq=AGUAGUUGUGUUAUUUUGGUU\\n' b''\n",
      "./scripts/TargetFinder/targetfinder.pl -s AUUGAGUAGUCAUUUUGAUAGAUC -q Cluster_5878 -d data/files/DEseqs.fa -p gff\n",
      "b'No results for Cluster_5878\\n' b''\n",
      "./scripts/TargetFinder/targetfinder.pl -s UUAGAAAACAAAGUAGAUUUU -q Cluster_6195 -d data/files/DEseqs.fa -p gff\n",
      "b'TRIAE_CS42_1DS_TGACv1_080995_AA0256520.1 cdna scaffold:TGACv1:TGACv1_scaffold_080995_1DS:10307\\ttargetfinder\\trna_target\\t1536\\t1557\\t3\\t+\\t.\\tsmallRNA=Cluster_6195;target_seq=GAAGUGUAACUUUGUUUUCUAA;base_pairs=.::.: :: :::::::::::::;miR_seq=UUUUAGAU-GAAACAAAAGAUU\\nTRIAE_CS42_1DS_TGACv1_080995_AA0256520.2 cdna scaffold:TGACv1:TGACv1_scaffold_080995_1DS:10307\\ttargetfinder\\trna_target\\t1443\\t1464\\t3\\t+\\t.\\tsmallRNA=Cluster_6195;target_seq=GAAGUGUAACUUUGUUUUCUAA;base_pairs=.::.: :: :::::::::::::;miR_seq=UUUUAGAU-GAAACAAAAGAUU\\nTRIAE_CS42_4AL_TGACv1_293164_AA1000360.1 cdna scaffold:TGACv1:TGACv1_scaffold_293164_4AL:3825:\\ttargetfinder\\trna_target\\t4810\\t4830\\t3.5\\t+\\t.\\tsmallRNA=Cluster_6195;target_seq=CAGAGUUACUUUGUUUUCUAG;base_pairs= :.: .::::::::::::::.;miR_seq=UUUUAGAUGAAACAAAAGAUU\\nTRIAE_CS42_4AL_TGACv1_293164_AA1000360.2 cdna scaffold:TGACv1:TGACv1_scaffold_293164_4AL:3854:\\ttargetfinder\\trna_target\\t4164\\t4184\\t3.5\\t+\\t.\\tsmallRNA=Cluster_6195;target_seq=CAGAGUUACUUUGUUUUCUAG;base_pairs= :.: .::::::::::::::.;miR_seq=UUUUAGAUGAAACAAAAGAUU\\n' b''\n",
      "./scripts/TargetFinder/targetfinder.pl -s GAAAAUAAAAGCUGACAUGUGGGC -q Cluster_7740 -d data/files/DEseqs.fa -p gff\n",
      "b'No results for Cluster_7740\\n' b''\n",
      "./scripts/TargetFinder/targetfinder.pl -s UUUUGGACAGCAAGAAUAACU -q Cluster_7803 -d data/files/DEseqs.fa -p gff\n",
      "b'TRIAE_CS42_6DL_TGACv1_527434_AA1703900.4 cdna scaffold:TGACv1:TGACv1_scaffold_527434_6DL:40758\\ttargetfinder\\trna_target\\t2580\\t2600\\t3.5\\t+\\t.\\tsmallRNA=Cluster_7803;target_seq=ACUUCUUCUUGCUGUUCAAAG;base_pairs=: :: ::::::::::.::::.;miR_seq=UCAAUAAGAACGACAGGUUUU\\nTRIAE_CS42_6DL_TGACv1_527434_AA1703900.5 cdna scaffold:TGACv1:TGACv1_scaffold_527434_6DL:40758\\ttargetfinder\\trna_target\\t2496\\t2516\\t3.5\\t+\\t.\\tsmallRNA=Cluster_7803;target_seq=ACUUCUUCUUGCUGUUCAAAG;base_pairs=: :: ::::::::::.::::.;miR_seq=UCAAUAAGAACGACAGGUUUU\\nTRIAE_CS42_6DL_TGACv1_527434_AA1703900.3 cdna scaffold:TGACv1:TGACv1_scaffold_527434_6DL:40758\\ttargetfinder\\trna_target\\t2424\\t2444\\t3.5\\t+\\t.\\tsmallRNA=Cluster_7803;target_seq=ACUUCUUCUUGCUGUUCAAAG;base_pairs=: :: ::::::::::.::::.;miR_seq=UCAAUAAGAACGACAGGUUUU\\nTRIAE_CS42_6DL_TGACv1_527434_AA1703900.2 cdna scaffold:TGACv1:TGACv1_scaffold_527434_6DL:40758\\ttargetfinder\\trna_target\\t2290\\t2310\\t3.5\\t+\\t.\\tsmallRNA=Cluster_7803;target_seq=ACUUCUUCUUGCUGUUCAAAG;base_pairs=: :: ::::::::::.::::.;miR_seq=UCAAUAAGAACGACAGGUUUU\\nTRIAE_CS42_6DL_TGACv1_527434_AA1703900.1 cdna scaffold:TGACv1:TGACv1_scaffold_527434_6DL:40250\\ttargetfinder\\trna_target\\t2496\\t2516\\t3.5\\t+\\t.\\tsmallRNA=Cluster_7803;target_seq=ACUUCUUCUUGCUGUUCAAAG;base_pairs=: :: ::::::::::.::::.;miR_seq=UCAAUAAGAACGACAGGUUUU\\n' b''\n",
      "./scripts/TargetFinder/targetfinder.pl -s CUGGGACUCGGUUUAACAGCC -q Cluster_8091 -d data/files/DEseqs.fa -p gff\n",
      "b'No results for Cluster_8091\\n' b''\n",
      "./scripts/TargetFinder/targetfinder.pl -s UUUCAAUUGUGCUCUAUACGU -q Cluster_10243 -d data/files/DEseqs.fa -p gff\n",
      "b'No results for Cluster_10243\\n' b''\n",
      "./scripts/TargetFinder/targetfinder.pl -s AUACCAGUCUCUAACAUACCCGGA -q Cluster_11913 -d data/files/DEseqs.fa -p gff\n",
      "b'No results for Cluster_11913\\n' b''\n",
      "./scripts/TargetFinder/targetfinder.pl -s CCUGUUUGUCAUUAAGUUUCUU -q Cluster_12788 -d data/files/DEseqs.fa -p gff\n",
      "b'No results for Cluster_12788\\n' b''\n",
      "./scripts/TargetFinder/targetfinder.pl -s UGGACGAGGAUGUGCAGCUGC -q Cluster_12900 -d data/files/DEseqs.fa -p gff\n",
      "b'TRIAE_CS42_7AS_TGACv1_570003_AA1828470.1 cdna scaffold:TGACv1:TGACv1_scaffold_570003_7AS:36536\\ttargetfinder\\trna_target\\t778\\t798\\t4\\t+\\t.\\tsmallRNA=Cluster_12900;target_seq=GCAGCUGCAGAUCCUCGUCGA;base_pairs=::::::::: ::::::::: :;miR_seq=CGUCGACGUGUAGGAGCAGGU\\n' b''\n",
      "./scripts/TargetFinder/targetfinder.pl -s UGCGGCUAGCUUUGAAUUGAUGGC -q Cluster_13476 -d data/files/DEseqs.fa -p gff\n",
      "b'No results for Cluster_13476\\n' b''\n",
      "./scripts/TargetFinder/targetfinder.pl -s UUUCCAUUUGUUGUUUUGAUU -q Cluster_13638 -d data/files/DEseqs.fa -p gff\n",
      "b'No results for Cluster_13638\\n' b''\n",
      "./scripts/TargetFinder/targetfinder.pl -s AGGCGGUUACCUUGGCUAGC -q Cluster_14161 -d data/files/DEseqs.fa -p gff\n",
      "b'TRIAE_CS42_2BL_TGACv1_129386_AA0381170.1 cdna scaffold:TGACv1:TGACv1_scaffold_129386_2BL:18705\\ttargetfinder\\trna_target\\t975\\t994\\t3.5\\t+\\t.\\tsmallRNA=Cluster_14161;target_seq=GCUGGCCAAGGUGGCCGCCG;base_pairs=:::.::::::::..::::: ;miR_seq=CGAUCGGUUCCAUUGGCGGA\\n' b''\n",
      "./scripts/TargetFinder/targetfinder.pl -s CAUGACCGUCAUGUAAGCGCA -q Cluster_15352 -d data/files/DEseqs.fa -p gff\n"
     ]
    },
    {
     "name": "stdout",
     "output_type": "stream",
     "text": [
      "b'No results for Cluster_15352\\n' b''\n",
      "./scripts/TargetFinder/targetfinder.pl -s AUCGAACAAUGGCAAAAAGAA -q Cluster_17414 -d data/files/DEseqs.fa -p gff\n",
      "b'No results for Cluster_17414\\n' b''\n",
      "./scripts/TargetFinder/targetfinder.pl -s UAGAAAUACAUUAAUUGGAGA -q Cluster_18328 -d data/files/DEseqs.fa -p gff\n",
      "b'TRIAE_CS42_5BL_TGACv1_407358_AA1356170.2 cdna scaffold:TGACv1:TGACv1_scaffold_407358_5BL:21673\\ttargetfinder\\trna_target\\t1501\\t1522\\t4\\t+\\t.\\tsmallRNA=Cluster_18328;target_seq=UCGUUUAAUUACUGUAUUUCUA;base_pairs=:: :..::::: ::::::::::;miR_seq=AG-AGGUUAAUUACAUAAAGAU\\nTRIAE_CS42_5BL_TGACv1_407358_AA1356170.1 cdna scaffold:TGACv1:TGACv1_scaffold_407358_5BL:21673\\ttargetfinder\\trna_target\\t1495\\t1516\\t4\\t+\\t.\\tsmallRNA=Cluster_18328;target_seq=UCGUUUAAUUACUGUAUUUCUA;base_pairs=:: :..::::: ::::::::::;miR_seq=AG-AGGUUAAUUACAUAAAGAU\\nTRIAE_CS42_5BL_TGACv1_407358_AA1356170.3 cdna scaffold:TGACv1:TGACv1_scaffold_407358_5BL:21673\\ttargetfinder\\trna_target\\t1458\\t1479\\t4\\t+\\t.\\tsmallRNA=Cluster_18328;target_seq=UCGUUUAAUUACUGUAUUUCUA;base_pairs=:: :..::::: ::::::::::;miR_seq=AG-AGGUUAAUUACAUAAAGAU\\nTRIAE_CS42_5DL_TGACv1_434985_AA1444510.1 cdna scaffold:TGACv1:TGACv1_scaffold_434985_5DL:15136\\ttargetfinder\\trna_target\\t1655\\t1676\\t4\\t+\\t.\\tsmallRNA=Cluster_18328;target_seq=UCGUUUAAUUACUGUAUUUCUA;base_pairs=:: :..::::: ::::::::::;miR_seq=AG-AGGUUAAUUACAUAAAGAU\\n' b''\n",
      "./scripts/TargetFinder/targetfinder.pl -s UAUGAUGAAAUUUUGAAGAAA -q Cluster_18929 -d data/files/DEseqs.fa -p gff\n",
      "b'No results for Cluster_18929\\n' b''\n",
      "./scripts/TargetFinder/targetfinder.pl -s CAGCGGCAUGAACAAGGCGGC -q Cluster_19683 -d data/files/DEseqs.fa -p gff\n",
      "b'TRIAE_CS42_5AL_TGACv1_377317_AA1245860.2 cdna scaffold:TGACv1:TGACv1_scaffold_377317_5AL:13946\\ttargetfinder\\trna_target\\t2539\\t2559\\t4\\t+\\t.\\tsmallRNA=Cluster_19683;target_seq=GCCUCCUUGUUCUUGCUGCUG;base_pairs=::: :::::::: :::.::::;miR_seq=CGGCGGAACAAGUACGGCGAC\\nTRIAE_CS42_5AL_TGACv1_377317_AA1245860.1 cdna scaffold:TGACv1:TGACv1_scaffold_377317_5AL:13946\\ttargetfinder\\trna_target\\t2450\\t2470\\t4\\t+\\t.\\tsmallRNA=Cluster_19683;target_seq=GCCUCCUUGUUCUUGCUGCUG;base_pairs=::: :::::::: :::.::::;miR_seq=CGGCGGAACAAGUACGGCGAC\\n' b''\n",
      "./scripts/TargetFinder/targetfinder.pl -s UCAAUUCUUUCCAUUUAUAGU -q Cluster_21178 -d data/files/DEseqs.fa -p gff\n",
      "b'No results for Cluster_21178\\n' b''\n",
      "./scripts/TargetFinder/targetfinder.pl -s UUGGUUGACUUUUGUUUUGUU -q Cluster_22491 -d data/files/DEseqs.fa -p gff\n",
      "b'TRIAE_CS42_4BL_TGACv1_320501_AA1041690.1 cdna scaffold:TGACv1:TGACv1_scaffold_320501_4BL:42207\\ttargetfinder\\trna_target\\t3514\\t3534\\t4\\t+\\t.\\tsmallRNA=Cluster_22491;target_seq=AGCAAAAGAAGAGUUAACCAG;base_pairs=:.::::: ::.:::.:::::.;miR_seq=UUGUUUUGUUUUCAGUUGGUU\\nTRIAE_CS42_4BL_TGACv1_320501_AA1041690.2 cdna scaffold:TGACv1:TGACv1_scaffold_320501_4BL:42207\\ttargetfinder\\trna_target\\t3761\\t3781\\t4\\t+\\t.\\tsmallRNA=Cluster_22491;target_seq=AGCAAAAGAAGAGUUAACCAG;base_pairs=:.::::: ::.:::.:::::.;miR_seq=UUGUUUUGUUUUCAGUUGGUU\\n' b''\n",
      "./scripts/TargetFinder/targetfinder.pl -s AUUUCCUUUGUUUUUUGGACA -q Cluster_22600 -d data/files/DEseqs.fa -p gff\n",
      "b'TRIAE_CS42_3AS_TGACv1_211851_AA0694930.2 cdna scaffold:TGACv1:TGACv1_scaffold_211851_3AS:19126\\ttargetfinder\\trna_target\\t1003\\t1023\\t3.5\\t+\\t.\\tsmallRNA=Cluster_22600;target_seq=AGUUCAGGAGACAAAGGAAAU;base_pairs= ::.::..:.:::::::::::;miR_seq=ACAGGUUUUUUGUUUCCUUUA\\nTRIAE_CS42_3AS_TGACv1_211851_AA0694930.3 cdna scaffold:TGACv1:TGACv1_scaffold_211851_3AS:19126\\ttargetfinder\\trna_target\\t1003\\t1023\\t3.5\\t+\\t.\\tsmallRNA=Cluster_22600;target_seq=AGUUCAGGAGACAAAGGAAAU;base_pairs= ::.::..:.:::::::::::;miR_seq=ACAGGUUUUUUGUUUCCUUUA\\nTRIAE_CS42_3AS_TGACv1_211851_AA0694930.1 cdna scaffold:TGACv1:TGACv1_scaffold_211851_3AS:19126\\ttargetfinder\\trna_target\\t1003\\t1023\\t3.5\\t+\\t.\\tsmallRNA=Cluster_22600;target_seq=AGUUCAGGAGACAAAGGAAAU;base_pairs= ::.::..:.:::::::::::;miR_seq=ACAGGUUUUUUGUUUCCUUUA\\nTRIAE_CS42_6AL_TGACv1_477280_AA1537130.1 cdna scaffold:TGACv1:TGACv1_scaffold_477280_6AL:757:3\\ttargetfinder\\trna_target\\t69\\t88\\t4\\t+\\t.\\tsmallRNA=Cluster_22600;target_seq=UG-CCAACAAACAAAGGAAGA;base_pairs=:: :::: :::::::::::. ;miR_seq=ACAGGUUUUUUGUUUCCUUUA\\nTRIAE_CS42_6AL_TGACv1_477280_AA1537130.2 cdna scaffold:TGACv1:TGACv1_scaffold_477280_6AL:757:3\\ttargetfinder\\trna_target\\t69\\t88\\t4\\t+\\t.\\tsmallRNA=Cluster_22600;target_seq=UG-CCAACAAACAAAGGAAGA;base_pairs=:: :::: :::::::::::. ;miR_seq=ACAGGUUUUUUGUUUCCUUUA\\n' b''\n",
      "./scripts/TargetFinder/targetfinder.pl -s AUGUGAUAUUGUGCUUAACCU -q Cluster_22857 -d data/files/DEseqs.fa -p gff\n",
      "b'No results for Cluster_22857\\n' b''\n",
      "./scripts/TargetFinder/targetfinder.pl -s UUUUUUGGUUUGUUUAAAGUU -q Cluster_24024 -d data/files/DEseqs.fa -p gff\n",
      "b'No results for Cluster_24024\\n' b''\n",
      "./scripts/TargetFinder/targetfinder.pl -s AAAGGGCCCUGUAAACGCAAACGC -q Cluster_24081 -d data/files/DEseqs.fa -p gff\n",
      "b'No results for Cluster_24081\\n' b''\n",
      "./scripts/TargetFinder/targetfinder.pl -s UUUUUUGGUUUGUUUAAAGUU -q Cluster_25566 -d data/files/DEseqs.fa -p gff\n",
      "b'No results for Cluster_25566\\n' b''\n",
      "./scripts/TargetFinder/targetfinder.pl -s AUUUUUCGACCGACUUGGCCCUCC -q Cluster_25889 -d data/files/DEseqs.fa -p gff\n",
      "b'No results for Cluster_25889\\n' b''\n",
      "./scripts/TargetFinder/targetfinder.pl -s AUAAAAAAACUGACAUGUGGGCCC -q Cluster_26923 -d data/files/DEseqs.fa -p gff\n",
      "b'No results for Cluster_26923\\n' b''\n",
      "./scripts/TargetFinder/targetfinder.pl -s UCUUUAUCUUGUCUAUUUCUU -q Cluster_30171 -d data/files/DEseqs.fa -p gff\n",
      "b'TRIAE_CS42_5AL_TGACv1_374430_AA1199980.1 cdna scaffold:TGACv1:TGACv1_scaffold_374430_5AL:13089\\ttargetfinder\\trna_target\\t2143\\t2162\\t4\\t+\\t.\\tsmallRNA=Cluster_30171;target_seq=AAGGAAUA-ACAAGAUGAAGG;base_pairs=:::.:::: :::::::.:::.;miR_seq=UUCUUUAUCUGUUCUAUUUCU\\nTRIAE_CS42_5BL_TGACv1_404418_AA1299180.1 cdna scaffold:TGACv1:TGACv1_scaffold_404418_5BL:11537\\ttargetfinder\\trna_target\\t939\\t958\\t4\\t+\\t.\\tsmallRNA=Cluster_30171;target_seq=AAGGAAUA-ACAAGAUGAAGG;base_pairs=:::.:::: :::::::.:::.;miR_seq=UUCUUUAUCUGUUCUAUUUCU\\nTRIAE_CS42_7DS_TGACv1_623057_AA2049180.1 cdna scaffold:TGACv1:TGACv1_scaffold_623057_7DS:22995\\ttargetfinder\\trna_target\\t1724\\t1743\\t4\\t+\\t.\\tsmallRNA=Cluster_30171;target_seq=GAGAAGAAGACAAGA-AAAGA;base_pairs=.::::. :::::::: :::::;miR_seq=UUCUUUAUCUGUUCUAUUUCU\\n' b''\n",
      "./scripts/TargetFinder/targetfinder.pl -s CUUGGCGGACACAGAUAAGACAAC -q Cluster_30581 -d data/files/DEseqs.fa -p gff\n",
      "b'No results for Cluster_30581\\n' b''\n",
      "./scripts/TargetFinder/targetfinder.pl -s AUUAAUUACAUCGUCUUUUGU -q Cluster_33096 -d data/files/DEseqs.fa -p gff\n",
      "b'No results for Cluster_33096\\n' b''\n",
      "./scripts/TargetFinder/targetfinder.pl -s CUGGGACUCGGUUUAACAGCC -q Cluster_34087 -d data/files/DEseqs.fa -p gff\n",
      "b'No results for Cluster_34087\\n' b''\n",
      "./scripts/TargetFinder/targetfinder.pl -s UACUACUGAAAGACAGCUGCCU -q Cluster_34660 -d data/files/DEseqs.fa -p gff\n",
      "b'TRIAE_CS42_2DS_TGACv1_178991_AA0603290.2 cdna scaffold:TGACv1:TGACv1_scaffold_178991_2DS:30472\\ttargetfinder\\trna_target\\t2852\\t2873\\t0\\t+\\t.\\tsmallRNA=Cluster_34660;target_seq=AGGCAGCUGUCUUUCAGUAGUA;base_pairs=::::::::::::::::::::::;miR_seq=UCCGUCGACAGAAAGUCAUCAU\\nTRIAE_CS42_2BS_TGACv1_147626_AA0485790.1 cdna scaffold:TGACv1:TGACv1_scaffold_147626_2BS:18157\\ttargetfinder\\trna_target\\t3167\\t3188\\t0\\t+\\t.\\tsmallRNA=Cluster_34660;target_seq=AGGCAGCUGUCUUUCAGUAGUA;base_pairs=::::::::::::::::::::::;miR_seq=UCCGUCGACAGAAAGUCAUCAU\\nTRIAE_CS42_2AS_TGACv1_115069_AA0370760.1 cdna scaffold:TGACv1:TGACv1_scaffold_115069_2AS:2916:\\ttargetfinder\\trna_target\\t3290\\t3311\\t0\\t+\\t.\\tsmallRNA=Cluster_34660;target_seq=AGGCAGCUGUCUUUCAGUAGUA;base_pairs=::::::::::::::::::::::;miR_seq=UCCGUCGACAGAAAGUCAUCAU\\nTRIAE_CS42_2BS_TGACv1_147626_AA0485790.2 cdna scaffold:TGACv1:TGACv1_scaffold_147626_2BS:18157\\ttargetfinder\\trna_target\\t3256\\t3277\\t0\\t+\\t.\\tsmallRNA=Cluster_34660;target_seq=AGGCAGCUGUCUUUCAGUAGUA;base_pairs=::::::::::::::::::::::;miR_seq=UCCGUCGACAGAAAGUCAUCAU\\nTRIAE_CS42_2DS_TGACv1_178991_AA0603290.1 cdna scaffold:TGACv1:TGACv1_scaffold_178991_2DS:30237\\ttargetfinder\\trna_target\\t3270\\t3291\\t0\\t+\\t.\\tsmallRNA=Cluster_34660;target_seq=AGGCAGCUGUCUUUCAGUAGUA;base_pairs=::::::::::::::::::::::;miR_seq=UCCGUCGACAGAAAGUCAUCAU\\nTRIAE_CS42_2DS_TGACv1_178991_AA0603290.3 cdna scaffold:TGACv1:TGACv1_scaffold_178991_2DS:30472\\ttargetfinder\\trna_target\\t3859\\t3880\\t0\\t+\\t.\\tsmallRNA=Cluster_34660;target_seq=AGGCAGCUGUCUUUCAGUAGUA;base_pairs=::::::::::::::::::::::;miR_seq=UCCGUCGACAGAAAGUCAUCAU\\nTRIAE_CS42_2BS_TGACv1_147626_AA0485790.3 cdna scaffold:TGACv1:TGACv1_scaffold_147626_2BS:18157\\ttargetfinder\\trna_target\\t3880\\t3901\\t0\\t+\\t.\\tsmallRNA=Cluster_34660;target_seq=AGGCAGCUGUCUUUCAGUAGUA;base_pairs=::::::::::::::::::::::;miR_seq=UCCGUCGACAGAAAGUCAUCAU\\nTRIAE_CS42_2AS_TGACv1_115069_AA0370760.2 cdna scaffold:TGACv1:TGACv1_scaffold_115069_2AS:2916:\\ttargetfinder\\trna_target\\t3935\\t3956\\t0\\t+\\t.\\tsmallRNA=Cluster_34660;target_seq=AGGCAGCUGUCUUUCAGUAGUA;base_pairs=::::::::::::::::::::::;miR_seq=UCCGUCGACAGAAAGUCAUCAU\\nTRIAE_CS42_2BS_TGACv1_147626_AA0485790.4 cdna scaffold:TGACv1:TGACv1_scaffold_147626_2BS:18157\\ttargetfinder\\trna_target\\t4292\\t4313\\t0\\t+\\t.\\tsmallRNA=Cluster_34660;target_seq=AGGCAGCUGUCUUUCAGUAGUA;base_pairs=::::::::::::::::::::::;miR_seq=UCCGUCGACAGAAAGUCAUCAU\\n' b''\n",
      "./scripts/TargetFinder/targetfinder.pl -s GAAAAUGUAGAUGUAGAAGAU -q Cluster_34883 -d data/files/DEseqs.fa -p gff\n"
     ]
    },
    {
     "name": "stdout",
     "output_type": "stream",
     "text": [
      "b'No results for Cluster_34883\\n' b''\n",
      "./scripts/TargetFinder/targetfinder.pl -s UUUGAACAGAGUAGUGGCAUC -q Cluster_36390 -d data/files/DEseqs.fa -p gff\n",
      "b'No results for Cluster_36390\\n' b''\n",
      "./scripts/TargetFinder/targetfinder.pl -s UGACAAAAGAACGACGGUAAGU -q Cluster_36391 -d data/files/DEseqs.fa -p gff\n",
      "b'No results for Cluster_36391\\n' b''\n",
      "./scripts/TargetFinder/targetfinder.pl -s AGCAGCGAAUGGCACGAACUG -q Cluster_36392 -d data/files/DEseqs.fa -p gff\n",
      "b'TRIAE_CS42_3AL_TGACv1_194242_AA0629460.1 cdna scaffold:TGACv1:TGACv1_scaffold_194242_3AL:72281\\ttargetfinder\\trna_target\\t1040\\t1060\\t3.5\\t+\\t.\\tsmallRNA=Cluster_36392;target_seq=GGGUUCUCGCCAUUCGCUGCU;base_pairs= .::::  :::::::::::::;miR_seq=GUCAAGCACGGUAAGCGACGA\\nTRIAE_CS42_3B_TGACv1_223369_AA0781120.1 cdna scaffold:TGACv1:TGACv1_scaffold_223369_3B:53817:5\\ttargetfinder\\trna_target\\t875\\t895\\t3.5\\t+\\t.\\tsmallRNA=Cluster_36392;target_seq=GGGUUCUCGCCAUUCGCUGCU;base_pairs= .::::  :::::::::::::;miR_seq=GUCAAGCACGGUAAGCGACGA\\n' b''\n",
      "./scripts/TargetFinder/targetfinder.pl -s UGGACGAGGAUGUGCAGCUGC -q Cluster_36675 -d data/files/DEseqs.fa -p gff\n",
      "b'TRIAE_CS42_7AS_TGACv1_570003_AA1828470.1 cdna scaffold:TGACv1:TGACv1_scaffold_570003_7AS:36536\\ttargetfinder\\trna_target\\t778\\t798\\t4\\t+\\t.\\tsmallRNA=Cluster_36675;target_seq=GCAGCUGCAGAUCCUCGUCGA;base_pairs=::::::::: ::::::::: :;miR_seq=CGUCGACGUGUAGGAGCAGGU\\n' b''\n",
      "./scripts/TargetFinder/targetfinder.pl -s UUUAUCUUCUUCUUCAUCUUU -q Cluster_37647 -d data/files/DEseqs.fa -p gff\n",
      "b'TRIAE_CS42_7BL_TGACv1_578401_AA1894200.2 cdna scaffold:TGACv1:TGACv1_scaffold_578401_7BL:24463\\ttargetfinder\\trna_target\\t7605\\t7625\\t3\\t+\\t.\\tsmallRNA=Cluster_37647;target_seq=AAGGAAAGAGAAGAAGAUAAA;base_pairs=::.::  .:::::::::::::;miR_seq=UUUCUACUUCUUCUUCUAUUU\\nTRIAE_CS42_7BL_TGACv1_578401_AA1894200.1 cdna scaffold:TGACv1:TGACv1_scaffold_578401_7BL:24463\\ttargetfinder\\trna_target\\t7587\\t7607\\t3\\t+\\t.\\tsmallRNA=Cluster_37647;target_seq=AAGGAAAGAGAAGAAGAUAAA;base_pairs=::.::  .:::::::::::::;miR_seq=UUUCUACUUCUUCUUCUAUUU\\nTRIAE_CS42_7BL_TGACv1_578401_AA1894200.3 cdna scaffold:TGACv1:TGACv1_scaffold_578401_7BL:24463\\ttargetfinder\\trna_target\\t7478\\t7498\\t3\\t+\\t.\\tsmallRNA=Cluster_37647;target_seq=AAGGAAAGAGAAGAAGAUAAA;base_pairs=::.::  .:::::::::::::;miR_seq=UUUCUACUUCUUCUUCUAUUU\\nTRIAE_CS42_2BS_TGACv1_146271_AA0460980.1 cdna scaffold:TGACv1:TGACv1_scaffold_146271_2BS:90866\\ttargetfinder\\trna_target\\t977\\t997\\t3\\t+\\t.\\tsmallRNA=Cluster_37647;target_seq=AAAGAAGAAGAAGAAGAAAAA;base_pairs=::::: ::::::::::: :::;miR_seq=UUUCUACUUCUUCUUCUAUUU\\nTRIAE_CS42_4BL_TGACv1_320982_AA1052950.1 cdna scaffold:TGACv1:TGACv1_scaffold_320982_4BL:56780\\ttargetfinder\\trna_target\\t1414\\t1434\\t3.5\\t+\\t.\\tsmallRNA=Cluster_37647;target_seq=GAAGAUGAAGGAGAAGAUGAU;base_pairs=.:::::::::.:::::::.: ;miR_seq=UUUCUACUUCUUCUUCUAUUU\\nTRIAE_CS42_5AL_TGACv1_374680_AA1206310.1 cdna scaffold:TGACv1:TGACv1_scaffold_374680_5AL:24424\\ttargetfinder\\trna_target\\t235\\t255\\t3.5\\t+\\t.\\tsmallRNA=Cluster_37647;target_seq=GAAGAGGAAGAGGAAGAUGAA;base_pairs=.:::: :::::.::::::.::;miR_seq=UUUCUACUUCUUCUUCUAUUU\\nTRIAE_CS42_5BL_TGACv1_407860_AA1360050.2 cdna scaffold:TGACv1:TGACv1_scaffold_407860_5BL:4842:\\ttargetfinder\\trna_target\\t1119\\t1139\\t3.5\\t+\\t.\\tsmallRNA=Cluster_37647;target_seq=GAAGAAGAAGAAGAAGAAAAA;base_pairs=.:::: ::::::::::: :::;miR_seq=UUUCUACUUCUUCUUCUAUUU\\nTRIAE_CS42_6DS_TGACv1_543379_AA1739250.1 cdna scaffold:TGACv1:TGACv1_scaffold_543379_6DS:10453\\ttargetfinder\\trna_target\\t25\\t45\\t3.5\\t+\\t.\\tsmallRNA=Cluster_37647;target_seq=GAAGAAGAAGAAGAAGAAAAA;base_pairs=.:::: ::::::::::: :::;miR_seq=UUUCUACUUCUUCUUCUAUUU\\nTRIAE_CS42_6DS_TGACv1_543379_AA1739250.2 cdna scaffold:TGACv1:TGACv1_scaffold_543379_6DS:10453\\ttargetfinder\\trna_target\\t25\\t45\\t3.5\\t+\\t.\\tsmallRNA=Cluster_37647;target_seq=GAAGAAGAAGAAGAAGAAAAA;base_pairs=.:::: ::::::::::: :::;miR_seq=UUUCUACUUCUUCUUCUAUUU\\nTRIAE_CS42_6AL_TGACv1_471109_AA1503010.10 cdna scaffold:TGACv1:TGACv1_scaffold_471109_6AL:1469\\ttargetfinder\\trna_target\\t192\\t213\\t3.5\\t+\\t.\\tsmallRNA=Cluster_37647;target_seq=AAGGAGGAAGAGAGAAGAUAAA;base_pairs=::.:: ::::: ::::::::::;miR_seq=UUUCUACUUCU-UCUUCUAUUU\\nTRIAE_CS42_3DL_TGACv1_249632_AA0853010.1 cdna scaffold:TGACv1:TGACv1_scaffold_249632_3DL:10448\\ttargetfinder\\trna_target\\t61\\t80\\t3.5\\t+\\t.\\tsmallRNA=Cluster_37647;target_seq=GAAGA-GAAGAGGAAGAUAAU;base_pairs=.:::: :::::.:::::::: ;miR_seq=UUUCUACUUCUUCUUCUAUUU\\nTRIAE_CS42_7DL_TGACv1_606879_AA2010680.2 cdna scaffold:TGACv1:TGACv1_scaffold_606879_7DL:3686:\\ttargetfinder\\trna_target\\t1432\\t1453\\t4\\t+\\t.\\tsmallRNA=Cluster_37647;target_seq=AGAGAUGAAGAGAGAAGAUAGG;base_pairs=:.::::::::: ::::::::..;miR_seq=UUUCUACUUCU-UCUUCUAUUU\\nTRIAE_CS42_5DL_TGACv1_433211_AA1405590.2 cdna scaffold:TGACv1:TGACv1_scaffold_433211_5DL:40263\\ttargetfinder\\trna_target\\t153\\t173\\t4\\t+\\t.\\tsmallRNA=Cluster_37647;target_seq=GAAGAGGGAGAGGAAGAUGAA;base_pairs=.:::: :.:::.::::::.::;miR_seq=UUUCUACUUCUUCUUCUAUUU\\nTRIAE_CS42_5DL_TGACv1_433211_AA1405590.1 cdna scaffold:TGACv1:TGACv1_scaffold_433211_5DL:40263\\ttargetfinder\\trna_target\\t153\\t173\\t4\\t+\\t.\\tsmallRNA=Cluster_37647;target_seq=GAAGAGGGAGAGGAAGAUGAA;base_pairs=.:::: :.:::.::::::.::;miR_seq=UUUCUACUUCUUCUUCUAUUU\\nTRIAE_CS42_5BS_TGACv1_423326_AA1374380.1 cdna scaffold:TGACv1:TGACv1_scaffold_423326_5BS:51756\\ttargetfinder\\trna_target\\t355\\t375\\t4\\t+\\t.\\tsmallRNA=Cluster_37647;target_seq=GAAGAAGAAGAAGAAGGUGAG;base_pairs=.:::: ::::::::::.:.:.;miR_seq=UUUCUACUUCUUCUUCUAUUU\\nTRIAE_CS42_5AL_TGACv1_375378_AA1220660.3 cdna scaffold:TGACv1:TGACv1_scaffold_375378_5AL:69466\\ttargetfinder\\trna_target\\t2177\\t2197\\t4\\t+\\t.\\tsmallRNA=Cluster_37647;target_seq=AAAGAAGAAGAAGAAGAAGAA;base_pairs=::::: ::::::::::: .::;miR_seq=UUUCUACUUCUUCUUCUAUUU\\nTRIAE_CS42_5AL_TGACv1_375378_AA1220660.2 cdna scaffold:TGACv1:TGACv1_scaffold_375378_5AL:69466\\ttargetfinder\\trna_target\\t2100\\t2120\\t4\\t+\\t.\\tsmallRNA=Cluster_37647;target_seq=AAAGAAGAAGAAGAAGAAGAA;base_pairs=::::: ::::::::::: .::;miR_seq=UUUCUACUUCUUCUUCUAUUU\\nTRIAE_CS42_5AL_TGACv1_375378_AA1220660.1 cdna scaffold:TGACv1:TGACv1_scaffold_375378_5AL:69466\\ttargetfinder\\trna_target\\t1472\\t1492\\t4\\t+\\t.\\tsmallRNA=Cluster_37647;target_seq=AAAGAAGAAGAAGAAGAAGAA;base_pairs=::::: ::::::::::: .::;miR_seq=UUUCUACUUCUUCUUCUAUUU\\nTRIAE_CS42_7AS_TGACv1_570652_AA1838930.1 cdna scaffold:TGACv1:TGACv1_scaffold_570652_7AS:29806\\ttargetfinder\\trna_target\\t2545\\t2564\\t4\\t+\\t.\\tsmallRNA=Cluster_37647;target_seq=CAAGAUGAAGAGGA-GAUAAA;base_pairs= ::::::::::.:: ::::::;miR_seq=UUUCUACUUCUUCUUCUAUUU\\nTRIAE_CS42_1BL_TGACv1_030719_AA0099120.2 cdna scaffold:TGACv1:TGACv1_scaffold_030719_1BL:12207\\ttargetfinder\\trna_target\\t1778\\t1797\\t4\\t+\\t.\\tsmallRNA=Cluster_37647;target_seq=GAAGG-GAAGAAGAAGAAAAA;base_pairs=.:::. ::::::::::: :::;miR_seq=UUUCUACUUCUUCUUCUAUUU\\nTRIAE_CS42_1BL_TGACv1_030719_AA0099120.1 cdna scaffold:TGACv1:TGACv1_scaffold_030719_1BL:12207\\ttargetfinder\\trna_target\\t1692\\t1711\\t4\\t+\\t.\\tsmallRNA=Cluster_37647;target_seq=GAAGG-GAAGAAGAAGAAAAA;base_pairs=.:::. ::::::::::: :::;miR_seq=UUUCUACUUCUUCUUCUAUUU\\n' b''\n"
     ]
    },
    {
     "data": {
      "text/plain": [
       "'\\nos.system(\\'grep -v \"No results for\" targets.txt > targets.clean.csv\\')\\n'"
      ]
     },
     "execution_count": 25,
     "metadata": {},
     "output_type": "execute_result"
    }
   ],
   "source": [
    "\n",
    "from subprocess import Popen, PIPE, call\n",
    "\n",
    "#search targets\n",
    "out_file = open(\"data/files/targets.txt\",\"w\") \n",
    "out_total = ''\n",
    "for k,v in df_de_clusters.iterrows():\n",
    "    cmd_list = ['./scripts/TargetFinder/targetfinder.pl','-s',v.MajorRNA,'-q',v.Name,'-d','data/files/DEseqs.fa','-p','gff']\n",
    "    print(' '.join(cmd_list))\n",
    "    pro = Popen(cmd_list, stdout=PIPE, stderr=PIPE)\n",
    "    out,err = pro.communicate()\n",
    "#    print(out,err)\n",
    "    out_total += out.decode(\"utf-8\") \n",
    "out_file.write(out_total)\n",
    "out_file.close()\n",
    "'''\n",
    "os.system('grep -v \"No results for\" targets.txt > targets.clean.csv')\n",
    "'''"
   ]
  },
  {
   "cell_type": "code",
   "execution_count": 36,
   "metadata": {},
   "outputs": [],
   "source": [
    "df_targets = pd.read_csv('data/files/targets.txt', sep='\\t', header=None)\n",
    "df_targets['Gene'] = df_targets[0].str.split(' ').apply(lambda x: x[0].split('.')[0])\n",
    "df_targets['cluster'] = df_targets[8].str.split(';').apply(lambda x: x[0].split('=')[1])"
   ]
  },
  {
   "cell_type": "code",
   "execution_count": 42,
   "metadata": {},
   "outputs": [
    {
     "data": {
      "text/html": [
       "<div>\n",
       "<style scoped>\n",
       "    .dataframe tbody tr th:only-of-type {\n",
       "        vertical-align: middle;\n",
       "    }\n",
       "\n",
       "    .dataframe tbody tr th {\n",
       "        vertical-align: top;\n",
       "    }\n",
       "\n",
       "    .dataframe thead th {\n",
       "        text-align: right;\n",
       "    }\n",
       "</style>\n",
       "<table border=\"1\" class=\"dataframe\">\n",
       "  <thead>\n",
       "    <tr style=\"text-align: right;\">\n",
       "      <th></th>\n",
       "      <th>Gene</th>\n",
       "      <th>log2FC</th>\n",
       "    </tr>\n",
       "  </thead>\n",
       "  <tbody>\n",
       "    <tr>\n",
       "      <th>0</th>\n",
       "      <td>TRIAE_CS42_2BL_TGACv1_130477_AA0412140</td>\n",
       "      <td>-2.456314</td>\n",
       "    </tr>\n",
       "    <tr>\n",
       "      <th>1</th>\n",
       "      <td>TRIAE_CS42_7AS_TGACv1_570678_AA1839270</td>\n",
       "      <td>4.295336</td>\n",
       "    </tr>\n",
       "    <tr>\n",
       "      <th>2</th>\n",
       "      <td>TRIAE_CS42_2BL_TGACv1_129652_AA0391760</td>\n",
       "      <td>2.744696</td>\n",
       "    </tr>\n",
       "  </tbody>\n",
       "</table>\n",
       "</div>"
      ],
      "text/plain": [
       "                                     Gene    log2FC\n",
       "0  TRIAE_CS42_2BL_TGACv1_130477_AA0412140 -2.456314\n",
       "1  TRIAE_CS42_7AS_TGACv1_570678_AA1839270  4.295336\n",
       "2  TRIAE_CS42_2BL_TGACv1_129652_AA0391760  2.744696"
      ]
     },
     "execution_count": 42,
     "metadata": {},
     "output_type": "execute_result"
    }
   ],
   "source": [
    "df_degenes.head(3)"
   ]
  },
  {
   "cell_type": "code",
   "execution_count": null,
   "metadata": {},
   "outputs": [],
   "source": []
  },
  {
   "cell_type": "code",
   "execution_count": 43,
   "metadata": {},
   "outputs": [
    {
     "name": "stdout",
     "output_type": "stream",
     "text": [
      "Upregulated 49\n",
      "Downregulated 20\n"
     ]
    }
   ],
   "source": [
    "df_targets_2 = pd.merge(df_targets, df_degenes, on='Gene')\n",
    "print('Upregulated',len(df_targets_2[df_targets_2.log2FC > 0].index))\n",
    "print('Downregulated',len(df_targets_2[df_targets_2.log2FC < 0].index))\n",
    "#df_de_clusters['Cluster'] = df_de_clusters['Name']\n",
    "#df_targets_2 = pd.merge(df_targets, df_de_clusters[['Cluster','genes']], on='Cluster')\n",
    "#df_targets_3 = df_targets_2[['Cluster','Gene','log2FC','genes']]\n",
    "#df_targets_3.columns = ['miRNA Cluster','Target Gene','Target log2FC','Origin gene']\n",
    "#df_targets_3.to_csv('data/targets_fc.csv',header=False, index=False, sep='\\t')\n",
    "#df_targets_3"
   ]
  },
  {
   "cell_type": "code",
   "execution_count": 71,
   "metadata": {},
   "outputs": [],
   "source": [
    "#df_targets_2.Gene.unique().tolist()\n",
    "df_targets_3 = pd.merge(df_targets_2, df_mirna, left_on=['cluster'], right_on=['Name'])\n",
    "df_targets_3 = df_targets_3[df_targets_3.MIRNA == 'Y']"
   ]
  },
  {
   "cell_type": "code",
   "execution_count": 85,
   "metadata": {},
   "outputs": [
    {
     "name": "stderr",
     "output_type": "stream",
     "text": [
      "/usr/local/lib/python3.6/site-packages/IPython/core/interactiveshell.py:2728: DtypeWarning: Columns (3,4,5,6,7) have mixed types. Specify dtype option on import or set low_memory=False.\n",
      "  interactivity=interactivity, compiler=compiler, result=result)\n"
     ]
    }
   ],
   "source": [
    "df_mart = pd.read_csv(file_mart, delimiter=',', quotechar = '\"',escapechar='\\\\')\n",
    "df_targets_mart = pd.merge(df_targets_2, df_mart, left_on=['Gene'], right_on=['Gene stable ID'])\n",
    "df_targets_mart.to_csv('data/files/targets_mart.csv',sep='\\t',index=None)\n",
    "#gene_list = df_targets_2.Gene.unique().tolist()\n",
    "#df_mart.head(1)\n",
    "#for g in gene_list[0:4]:\n",
    "#    df = df_mart[df_mart['Gene stable ID'] == g]\n",
    "#    print(g)\n",
    "#    print(df[['GO term definition', 'GO term name','GO domain']])\n"
   ]
  },
  {
   "cell_type": "code",
   "execution_count": 78,
   "metadata": {},
   "outputs": [
    {
     "data": {
      "text/html": [
       "<div>\n",
       "<style scoped>\n",
       "    .dataframe tbody tr th:only-of-type {\n",
       "        vertical-align: middle;\n",
       "    }\n",
       "\n",
       "    .dataframe tbody tr th {\n",
       "        vertical-align: top;\n",
       "    }\n",
       "\n",
       "    .dataframe thead th {\n",
       "        text-align: right;\n",
       "    }\n",
       "</style>\n",
       "<table border=\"1\" class=\"dataframe\">\n",
       "  <thead>\n",
       "    <tr style=\"text-align: right;\">\n",
       "      <th></th>\n",
       "      <th>Gene stable ID</th>\n",
       "      <th>Transcript stable ID</th>\n",
       "      <th>Gene name</th>\n",
       "      <th>GO term accession</th>\n",
       "      <th>GO term name</th>\n",
       "      <th>GO term definition</th>\n",
       "      <th>GO domain</th>\n",
       "      <th>GO term evidence code</th>\n",
       "    </tr>\n",
       "  </thead>\n",
       "  <tbody>\n",
       "    <tr>\n",
       "      <th>0</th>\n",
       "      <td>TRIAE_CS42_U_TGACv1_641895_AA2106830</td>\n",
       "      <td>TRIAE_CS42_U_TGACv1_641895_AA2106830.1</td>\n",
       "      <td>NaN</td>\n",
       "      <td>GO:0048316</td>\n",
       "      <td>seed development</td>\n",
       "      <td>\"The process whose specific outcome is the pro...</td>\n",
       "      <td>biological_process</td>\n",
       "      <td>IEA</td>\n",
       "    </tr>\n",
       "  </tbody>\n",
       "</table>\n",
       "</div>"
      ],
      "text/plain": [
       "                         Gene stable ID  \\\n",
       "0  TRIAE_CS42_U_TGACv1_641895_AA2106830   \n",
       "\n",
       "                     Transcript stable ID Gene name GO term accession  \\\n",
       "0  TRIAE_CS42_U_TGACv1_641895_AA2106830.1       NaN        GO:0048316   \n",
       "\n",
       "       GO term name                                 GO term definition  \\\n",
       "0  seed development  \"The process whose specific outcome is the pro...   \n",
       "\n",
       "            GO domain GO term evidence code  \n",
       "0  biological_process                   IEA  "
      ]
     },
     "execution_count": 78,
     "metadata": {},
     "output_type": "execute_result"
    }
   ],
   "source": [
    "df_mart.head(1)"
   ]
  },
  {
   "cell_type": "code",
   "execution_count": null,
   "metadata": {},
   "outputs": [],
   "source": []
  },
  {
   "cell_type": "code",
   "execution_count": null,
   "metadata": {},
   "outputs": [],
   "source": []
  },
  {
   "cell_type": "code",
   "execution_count": null,
   "metadata": {},
   "outputs": [],
   "source": []
  },
  {
   "cell_type": "code",
   "execution_count": null,
   "metadata": {},
   "outputs": [],
   "source": [
    "df_de_clusters['cluster'] = df_de_clusters['Name']\n",
    "df_de_clusters_targets = pd.merge(df_targets[['target_gene','cluster']],df_de_clusters,on='cluster')\n",
    "df_de_clusters_targets"
   ]
  }
 ],
 "metadata": {
  "kernelspec": {
   "display_name": "Python 3",
   "language": "python",
   "name": "python3"
  },
  "language_info": {
   "codemirror_mode": {
    "name": "ipython",
    "version": 3
   },
   "file_extension": ".py",
   "mimetype": "text/x-python",
   "name": "python",
   "nbconvert_exporter": "python",
   "pygments_lexer": "ipython3",
   "version": "3.6.5"
  }
 },
 "nbformat": 4,
 "nbformat_minor": 2
}

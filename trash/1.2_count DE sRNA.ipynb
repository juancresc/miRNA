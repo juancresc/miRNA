{
 "cells": [
  {
   "cell_type": "code",
   "execution_count": 6,
   "metadata": {},
   "outputs": [],
   "source": [
    "import pandas as pd"
   ]
  },
  {
   "cell_type": "code",
   "execution_count": 7,
   "metadata": {},
   "outputs": [
    {
     "name": "stdout",
     "output_type": "stream",
     "text": [
      "Total DE:  43\n"
     ]
    }
   ],
   "source": [
    "de_file = 'data/files/diffexpr-results.0.05.csv'\n",
    "df_de_clus = pd.read_csv(de_file,sep=\",\")\n",
    "print('Total DE: ',len(df_de_clus.index))"
   ]
  },
  {
   "cell_type": "code",
   "execution_count": 8,
   "metadata": {},
   "outputs": [
    {
     "data": {
      "text/plain": [
       "37"
      ]
     },
     "execution_count": 8,
     "metadata": {},
     "output_type": "execute_result"
    }
   ],
   "source": [
    "len(df_de_clus[df_de_clus.log2FoldChange > 0].index)"
   ]
  },
  {
   "cell_type": "code",
   "execution_count": 9,
   "metadata": {},
   "outputs": [
    {
     "data": {
      "text/plain": [
       "6"
      ]
     },
     "execution_count": 9,
     "metadata": {},
     "output_type": "execute_result"
    }
   ],
   "source": [
    "len(df_de_clus[df_de_clus.log2FoldChange < 0].index)"
   ]
  },
  {
   "cell_type": "code",
   "execution_count": 10,
   "metadata": {},
   "outputs": [],
   "source": [
    "srna_file = 'data/21dpi_tgac/ShortStack_D.gff3'\n",
    "df_srna = pd.read_csv(srna_file,sep=\"\\t\",header=None)\n",
    "df_srna.columns = ['seqname', 'source', 'feature', 'start', 'end', 'score', 'strand', 'frame', 'attribute']\n"
   ]
  },
  {
   "cell_type": "code",
   "execution_count": 14,
   "metadata": {},
   "outputs": [],
   "source": [
    "df_srna_y = df_srna[df_srna.attribute.str.contains('MIRNA=Y')]"
   ]
  },
  {
   "cell_type": "code",
   "execution_count": 19,
   "metadata": {},
   "outputs": [
    {
     "name": "stdout",
     "output_type": "stream",
     "text": [
      "Total DE filtered:  3\n"
     ]
    }
   ],
   "source": [
    "\n",
    "\n",
    "gene_list = df_de_clus.Gene.tolist()\n",
    "def filter(s):\n",
    "    s = s.split(';')[0].split('=')[1]\n",
    "    for i in gene_list:\n",
    "        if s == i:\n",
    "            return True\n",
    "    return False\n",
    "\n",
    "#shortstack gff results that are DE\n",
    "df_srna_y_de = df_srna_y[df_srna_y.attribute.apply(lambda s: filter(s))]\n",
    "print('Total DE filtered: ',len(df_srna_y_de.index))"
   ]
  },
  {
   "cell_type": "code",
   "execution_count": 20,
   "metadata": {},
   "outputs": [
    {
     "data": {
      "text/html": [
       "<div>\n",
       "<style scoped>\n",
       "    .dataframe tbody tr th:only-of-type {\n",
       "        vertical-align: middle;\n",
       "    }\n",
       "\n",
       "    .dataframe tbody tr th {\n",
       "        vertical-align: top;\n",
       "    }\n",
       "\n",
       "    .dataframe thead th {\n",
       "        text-align: right;\n",
       "    }\n",
       "</style>\n",
       "<table border=\"1\" class=\"dataframe\">\n",
       "  <thead>\n",
       "    <tr style=\"text-align: right;\">\n",
       "      <th></th>\n",
       "      <th>seqname</th>\n",
       "      <th>source</th>\n",
       "      <th>feature</th>\n",
       "      <th>start</th>\n",
       "      <th>end</th>\n",
       "      <th>score</th>\n",
       "      <th>strand</th>\n",
       "      <th>frame</th>\n",
       "      <th>attribute</th>\n",
       "    </tr>\n",
       "  </thead>\n",
       "  <tbody>\n",
       "    <tr>\n",
       "      <th>9761</th>\n",
       "      <td>TGACv1_scaffold_093693_2AL</td>\n",
       "      <td>ShortStack</td>\n",
       "      <td>nc_RNA</td>\n",
       "      <td>27464</td>\n",
       "      <td>27559</td>\n",
       "      <td>.</td>\n",
       "      <td>-</td>\n",
       "      <td>.</td>\n",
       "      <td>ID=Cluster_12900;DicerCall=21;MIRNA=Y;</td>\n",
       "    </tr>\n",
       "    <tr>\n",
       "      <th>10748</th>\n",
       "      <td>TGACv1_scaffold_158489_2DL</td>\n",
       "      <td>ShortStack</td>\n",
       "      <td>nc_RNA</td>\n",
       "      <td>102620</td>\n",
       "      <td>102791</td>\n",
       "      <td>.</td>\n",
       "      <td>+</td>\n",
       "      <td>.</td>\n",
       "      <td>ID=Cluster_14161;DicerCall=20;MIRNA=Y;</td>\n",
       "    </tr>\n",
       "    <tr>\n",
       "      <th>28090</th>\n",
       "      <td>TGACv1_scaffold_162626_2DL</td>\n",
       "      <td>ShortStack</td>\n",
       "      <td>nc_RNA</td>\n",
       "      <td>5933</td>\n",
       "      <td>6033</td>\n",
       "      <td>.</td>\n",
       "      <td>+</td>\n",
       "      <td>.</td>\n",
       "      <td>ID=Cluster_36675;DicerCall=21;MIRNA=Y;</td>\n",
       "    </tr>\n",
       "  </tbody>\n",
       "</table>\n",
       "</div>"
      ],
      "text/plain": [
       "                          seqname      source feature   start     end score  \\\n",
       "9761   TGACv1_scaffold_093693_2AL  ShortStack  nc_RNA   27464   27559     .   \n",
       "10748  TGACv1_scaffold_158489_2DL  ShortStack  nc_RNA  102620  102791     .   \n",
       "28090  TGACv1_scaffold_162626_2DL  ShortStack  nc_RNA    5933    6033     .   \n",
       "\n",
       "      strand frame                               attribute  \n",
       "9761       -     .  ID=Cluster_12900;DicerCall=21;MIRNA=Y;  \n",
       "10748      +     .  ID=Cluster_14161;DicerCall=20;MIRNA=Y;  \n",
       "28090      +     .  ID=Cluster_36675;DicerCall=21;MIRNA=Y;  "
      ]
     },
     "execution_count": 20,
     "metadata": {},
     "output_type": "execute_result"
    }
   ],
   "source": [
    "df_srna_y_de"
   ]
  },
  {
   "cell_type": "code",
   "execution_count": null,
   "metadata": {},
   "outputs": [],
   "source": []
  }
 ],
 "metadata": {
  "kernelspec": {
   "display_name": "Python 3",
   "language": "python",
   "name": "python3"
  },
  "language_info": {
   "codemirror_mode": {
    "name": "ipython",
    "version": 3
   },
   "file_extension": ".py",
   "mimetype": "text/x-python",
   "name": "python",
   "nbconvert_exporter": "python",
   "pygments_lexer": "ipython3",
   "version": "3.6.5"
  }
 },
 "nbformat": 4,
 "nbformat_minor": 2
}

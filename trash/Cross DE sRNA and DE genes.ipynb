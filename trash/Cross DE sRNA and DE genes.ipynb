{
 "cells": [
  {
   "cell_type": "code",
   "execution_count": 1,
   "metadata": {},
   "outputs": [],
   "source": [
    "import pandas as pd"
   ]
  },
  {
   "cell_type": "code",
   "execution_count": 2,
   "metadata": {},
   "outputs": [
    {
     "name": "stdout",
     "output_type": "stream",
     "text": [
      "Total DE sRNA:  43\n"
     ]
    }
   ],
   "source": [
    "file_de_srna = 'data/files/diffexpr-results.0.05.csv'\n",
    "df_de_srna = pd.read_csv(file_de_srna,sep=\",\")\n",
    "print('Total DE sRNA: ',len(df_de_srna.index))"
   ]
  },
  {
   "cell_type": "code",
   "execution_count": 3,
   "metadata": {},
   "outputs": [
    {
     "name": "stdout",
     "output_type": "stream",
     "text": [
      "Total sRNA:  28844\n"
     ]
    }
   ],
   "source": [
    "file_srna = 'data/21dpi_tgac/ShortStack_D.gff3'\n",
    "df_srna = pd.read_csv(file_srna,sep=\"\\t\")\n",
    "df_srna.columns = ['seqname', 'source', 'feature', 'start', 'end', 'score', 'strand', 'frame', 'attribute']\n",
    "print('Total sRNA: ',len(df_srna.index))\n"
   ]
  },
  {
   "cell_type": "code",
   "execution_count": 4,
   "metadata": {},
   "outputs": [
    {
     "name": "stdout",
     "output_type": "stream",
     "text": [
      "Total sRNA DE filtered:  43\n"
     ]
    }
   ],
   "source": [
    "gene_list = df_de_srna.Gene.tolist()\n",
    "def filter(s):\n",
    "    s = s.split(';')[0].split('=')[1]\n",
    "    if s in gene_list:\n",
    "        return True\n",
    "    return False\n",
    "\n",
    "#shortstack gff results that are DE\n",
    "df_de_srna_ann = df_srna[df_srna.attribute.apply(lambda s: filter(s))]\n",
    "print('Total sRNA DE filtered: ',len(df_de_srna_ann.index))"
   ]
  },
  {
   "cell_type": "code",
   "execution_count": 5,
   "metadata": {},
   "outputs": [
    {
     "name": "stdout",
     "output_type": "stream",
     "text": [
      "Total DE genes:  3233\n"
     ]
    }
   ],
   "source": [
    "file_deg_genes = 'data/DEGs_by_RNAseq_21dpi_wheat.txt'\n",
    "df_de_genes_list = pd.read_csv(file_deg_genes,sep=\"\\t\")\n",
    "print('Total DE genes: ',len(df_de_genes_list.index))"
   ]
  },
  {
   "cell_type": "code",
   "execution_count": 5,
   "metadata": {},
   "outputs": [
    {
     "name": "stdout",
     "output_type": "stream",
     "text": [
      "Total genes:  104390\n"
     ]
    }
   ],
   "source": [
    "file_genes = 'data/cross/genes.gff'\n",
    "df_genes = pd.read_csv(file_genes,sep=\"\\t\",header=None)\n",
    "df_genes.columns = ['seqname', 'source', 'feature', 'start', 'end', 'score', 'strand', 'frame', 'attribute']\n",
    "print('Total genes: ',len(df_genes.index))"
   ]
  },
  {
   "cell_type": "code",
   "execution_count": 34,
   "metadata": {},
   "outputs": [
    {
     "name": "stdout",
     "output_type": "stream",
     "text": [
      "Total genes DE filtered:  3233\n"
     ]
    }
   ],
   "source": [
    "gene_list = df_de_genes_list.Gene.tolist()\n",
    "def filter(s):\n",
    "    s = s.split(';')[0].split('=')[1].split(':')[1]\n",
    "    if s in gene_list:\n",
    "        return True\n",
    "    return False\n",
    "\n",
    "#shortstack gff results that are DE\n",
    "df_genes_de = df_genes[df_genes.attribute.apply(lambda s: filter(s))]\n",
    "print('Total genes DE filtered: ',len(df_genes_de.index))"
   ]
  },
  {
   "cell_type": "code",
   "execution_count": 6,
   "metadata": {},
   "outputs": [
    {
     "data": {
      "text/plain": [
       "104390"
      ]
     },
     "execution_count": 6,
     "metadata": {},
     "output_type": "execute_result"
    }
   ],
   "source": [
    "df_genes_de = df_genes\n",
    "len(df_genes_de.index)"
   ]
  },
  {
   "cell_type": "code",
   "execution_count": null,
   "metadata": {},
   "outputs": [
    {
     "name": "stdout",
     "output_type": "stream",
     "text": [
      "                         seqname      source feature  start    end score  \\\n",
      "9760  TGACv1_scaffold_093693_2AL  ShortStack  nc_RNA  27464  27559     .   \n",
      "\n",
      "     strand frame                               attribute  \n",
      "9760      -     .  ID=Cluster_12900;DicerCall=21;MIRNA=Y;  \n",
      "                          seqname      source feature  start    end score  \\\n",
      "15043  TGACv1_scaffold_094374_2AL  ShortStack  nc_RNA  34913  35709     .   \n",
      "\n",
      "      strand frame                               attribute  \n",
      "15043      .     .  ID=Cluster_19683;DicerCall=21;MIRNA=N;  \n",
      "                          seqname      source feature  start    end score  \\\n",
      "19847  TGACv1_scaffold_095148_2AL  ShortStack  nc_RNA  46903  47239     .   \n",
      "\n",
      "      strand frame                               attribute  \n",
      "19847      .     .  ID=Cluster_25889;DicerCall=24;MIRNA=N;  \n",
      "                          seqname      source feature  start   end score  \\\n",
      "26630  TGACv1_scaffold_115069_2AS  ShortStack  nc_RNA   7385  8184     .   \n",
      "\n",
      "      strand frame                               attribute  \n",
      "26630      .     .  ID=Cluster_34660;DicerCall=21;MIRNA=N;  \n",
      "                         seqname      source feature   start     end score  \\\n",
      "5756  TGACv1_scaffold_129925_2BL  ShortStack  nc_RNA  103045  103289     .   \n",
      "\n",
      "     strand frame                              attribute  \n",
      "5756      .     .  ID=Cluster_7740;DicerCall=24;MIRNA=N;  \n",
      "                          seqname      source feature  start   end score  \\\n",
      "27882  TGACv1_scaffold_133638_2BL  ShortStack  nc_RNA   7614  8122     .   \n",
      "27883  TGACv1_scaffold_133638_2BL  ShortStack  nc_RNA   8201  8472     .   \n",
      "27884  TGACv1_scaffold_133638_2BL  ShortStack  nc_RNA   8837  9505     .   \n",
      "\n",
      "      strand frame                               attribute  \n",
      "27882      .     .  ID=Cluster_36390;DicerCall=21;MIRNA=N;  \n",
      "27883      .     .  ID=Cluster_36391;DicerCall=22;MIRNA=N;  \n",
      "27884      .     .  ID=Cluster_36392;DicerCall=21;MIRNA=N;  \n",
      "                         seqname      source feature   start     end score  \\\n",
      "4579  TGACv1_scaffold_146178_2BS  ShortStack  nc_RNA  145725  145748     .   \n",
      "\n",
      "     strand frame                              attribute  \n",
      "4579      +     .  ID=Cluster_6195;DicerCall=21;MIRNA=N;  \n",
      "                          seqname      source feature  start    end score  \\\n",
      "20674  TGACv1_scaffold_159825_2DL  ShortStack  nc_RNA  40632  40876     .   \n",
      "\n",
      "      strand frame                               attribute  \n",
      "20674      .     .  ID=Cluster_26923;DicerCall=24;MIRNA=N;  \n",
      "                          seqname      source feature  start   end score  \\\n",
      "28089  TGACv1_scaffold_162626_2DL  ShortStack  nc_RNA   5933  6033     .   \n",
      "\n",
      "      strand frame                               attribute  \n",
      "28089      +     .  ID=Cluster_36675;DicerCall=21;MIRNA=Y;  \n",
      "                        seqname      source feature   start     end score  \\\n",
      "742  TGACv1_scaffold_327870_4BS  ShortStack  nc_RNA  291350  292053     .   \n",
      "\n",
      "    strand frame                              attribute  \n",
      "742      .     .  ID=Cluster_1119;DicerCall=21;MIRNA=N;  \n",
      "                         seqname      source feature  start    end score  \\\n",
      "8975  TGACv1_scaffold_374638_5AL  ShortStack  nc_RNA  73386  73678     .   \n",
      "\n",
      "     strand frame                               attribute  \n",
      "8975      .     .  ID=Cluster_11913;DicerCall=24;MIRNA=N;  \n",
      "                          seqname      source feature  start    end score  \\\n",
      "19578  TGACv1_scaffold_376167_5AL  ShortStack  nc_RNA  27891  27912     .   \n",
      "\n",
      "      strand frame                               attribute  \n",
      "19578      -     .  ID=Cluster_25566;DicerCall=21;MIRNA=N;  \n",
      "                          seqname      source feature  start    end score  \\\n",
      "19578  TGACv1_scaffold_376167_5AL  ShortStack  nc_RNA  27891  27912     .   \n",
      "\n",
      "      strand frame                               attribute  \n",
      "19578      -     .  ID=Cluster_25566;DicerCall=21;MIRNA=N;  \n"
     ]
    }
   ],
   "source": [
    "#DE genes that are close to DE sRNA\n",
    "distance = 1500\n",
    "def filter(s):\n",
    "    start = s.start - distance\n",
    "    end = s.end + distance\n",
    "    df_res = df_genes[(df_genes.seqname == s.seqname) & (df_genes.end >= start) & (df_genes.start <= end)]\n",
    "    if len(df_res.index) == 0:\n",
    "        return False\n",
    "    s.genes = \n",
    "    return True\n",
    "\n",
    "df_de_srna_ann_genes = df_de_srna_ann[df_de_srna_ann.apply(lambda s: filter(s), axis=1)]"
   ]
  },
  {
   "cell_type": "code",
   "execution_count": 75,
   "metadata": {},
   "outputs": [
    {
     "data": {
      "text/html": [
       "<div>\n",
       "<style scoped>\n",
       "    .dataframe tbody tr th:only-of-type {\n",
       "        vertical-align: middle;\n",
       "    }\n",
       "\n",
       "    .dataframe tbody tr th {\n",
       "        vertical-align: top;\n",
       "    }\n",
       "\n",
       "    .dataframe thead th {\n",
       "        text-align: right;\n",
       "    }\n",
       "</style>\n",
       "<table border=\"1\" class=\"dataframe\">\n",
       "  <thead>\n",
       "    <tr style=\"text-align: right;\">\n",
       "      <th></th>\n",
       "      <th>seqname</th>\n",
       "      <th>source</th>\n",
       "      <th>feature</th>\n",
       "      <th>start</th>\n",
       "      <th>end</th>\n",
       "      <th>score</th>\n",
       "      <th>strand</th>\n",
       "      <th>frame</th>\n",
       "      <th>attribute</th>\n",
       "    </tr>\n",
       "  </thead>\n",
       "  <tbody>\n",
       "    <tr>\n",
       "      <th>18283</th>\n",
       "      <td>TGACv1_scaffold_115069_2AS</td>\n",
       "      <td>ensembl</td>\n",
       "      <td>gene</td>\n",
       "      <td>2916</td>\n",
       "      <td>8370</td>\n",
       "      <td>.</td>\n",
       "      <td>+</td>\n",
       "      <td>.</td>\n",
       "      <td>ID=gene:TRIAE_CS42_2AS_TGACv1_115069_AA0370760...</td>\n",
       "    </tr>\n",
       "    <tr>\n",
       "      <th>52440</th>\n",
       "      <td>TGACv1_scaffold_327870_4BS</td>\n",
       "      <td>ensembl</td>\n",
       "      <td>gene</td>\n",
       "      <td>291587</td>\n",
       "      <td>294355</td>\n",
       "      <td>.</td>\n",
       "      <td>-</td>\n",
       "      <td>.</td>\n",
       "      <td>ID=gene:TRIAE_CS42_4BS_TGACv1_327870_AA1077090...</td>\n",
       "    </tr>\n",
       "  </tbody>\n",
       "</table>\n",
       "</div>"
      ],
      "text/plain": [
       "                          seqname   source feature   start     end score  \\\n",
       "18283  TGACv1_scaffold_115069_2AS  ensembl    gene    2916    8370     .   \n",
       "52440  TGACv1_scaffold_327870_4BS  ensembl    gene  291587  294355     .   \n",
       "\n",
       "      strand frame                                          attribute  \n",
       "18283      +     .  ID=gene:TRIAE_CS42_2AS_TGACv1_115069_AA0370760...  \n",
       "52440      -     .  ID=gene:TRIAE_CS42_4BS_TGACv1_327870_AA1077090...  "
      ]
     },
     "execution_count": 75,
     "metadata": {},
     "output_type": "execute_result"
    }
   ],
   "source": [
    "df_genes_de_cross_srna"
   ]
  },
  {
   "cell_type": "code",
   "execution_count": 72,
   "metadata": {},
   "outputs": [],
   "source": [
    "df_res = pd.merge(df_de_srna_ann,df_genes_de,on='seqname')"
   ]
  },
  {
   "cell_type": "code",
   "execution_count": 74,
   "metadata": {},
   "outputs": [
    {
     "data": {
      "text/html": [
       "<div>\n",
       "<style scoped>\n",
       "    .dataframe tbody tr th:only-of-type {\n",
       "        vertical-align: middle;\n",
       "    }\n",
       "\n",
       "    .dataframe tbody tr th {\n",
       "        vertical-align: top;\n",
       "    }\n",
       "\n",
       "    .dataframe thead th {\n",
       "        text-align: right;\n",
       "    }\n",
       "</style>\n",
       "<table border=\"1\" class=\"dataframe\">\n",
       "  <thead>\n",
       "    <tr style=\"text-align: right;\">\n",
       "      <th></th>\n",
       "      <th>seqname</th>\n",
       "      <th>source_x</th>\n",
       "      <th>feature_x</th>\n",
       "      <th>start_x</th>\n",
       "      <th>end_x</th>\n",
       "      <th>score_x</th>\n",
       "      <th>strand_x</th>\n",
       "      <th>frame_x</th>\n",
       "      <th>attribute_x</th>\n",
       "      <th>source_y</th>\n",
       "      <th>feature_y</th>\n",
       "      <th>start_y</th>\n",
       "      <th>end_y</th>\n",
       "      <th>score_y</th>\n",
       "      <th>strand_y</th>\n",
       "      <th>frame_y</th>\n",
       "      <th>attribute_y</th>\n",
       "    </tr>\n",
       "  </thead>\n",
       "  <tbody>\n",
       "    <tr>\n",
       "      <th>0</th>\n",
       "      <td>TGACv1_scaffold_327870_4BS</td>\n",
       "      <td>ShortStack</td>\n",
       "      <td>nc_RNA</td>\n",
       "      <td>291350</td>\n",
       "      <td>292053</td>\n",
       "      <td>.</td>\n",
       "      <td>.</td>\n",
       "      <td>.</td>\n",
       "      <td>ID=Cluster_1119;DicerCall=21;MIRNA=N;</td>\n",
       "      <td>ensembl</td>\n",
       "      <td>gene</td>\n",
       "      <td>291587</td>\n",
       "      <td>294355</td>\n",
       "      <td>.</td>\n",
       "      <td>-</td>\n",
       "      <td>.</td>\n",
       "      <td>ID=gene:TRIAE_CS42_4BS_TGACv1_327870_AA1077090...</td>\n",
       "    </tr>\n",
       "    <tr>\n",
       "      <th>1</th>\n",
       "      <td>TGACv1_scaffold_115069_2AS</td>\n",
       "      <td>ShortStack</td>\n",
       "      <td>nc_RNA</td>\n",
       "      <td>7385</td>\n",
       "      <td>8184</td>\n",
       "      <td>.</td>\n",
       "      <td>.</td>\n",
       "      <td>.</td>\n",
       "      <td>ID=Cluster_34660;DicerCall=21;MIRNA=N;</td>\n",
       "      <td>ensembl</td>\n",
       "      <td>gene</td>\n",
       "      <td>2916</td>\n",
       "      <td>8370</td>\n",
       "      <td>.</td>\n",
       "      <td>+</td>\n",
       "      <td>.</td>\n",
       "      <td>ID=gene:TRIAE_CS42_2AS_TGACv1_115069_AA0370760...</td>\n",
       "    </tr>\n",
       "  </tbody>\n",
       "</table>\n",
       "</div>"
      ],
      "text/plain": [
       "                      seqname    source_x feature_x  start_x   end_x score_x  \\\n",
       "0  TGACv1_scaffold_327870_4BS  ShortStack    nc_RNA   291350  292053       .   \n",
       "1  TGACv1_scaffold_115069_2AS  ShortStack    nc_RNA     7385    8184       .   \n",
       "\n",
       "  strand_x frame_x                             attribute_x source_y feature_y  \\\n",
       "0        .       .   ID=Cluster_1119;DicerCall=21;MIRNA=N;  ensembl      gene   \n",
       "1        .       .  ID=Cluster_34660;DicerCall=21;MIRNA=N;  ensembl      gene   \n",
       "\n",
       "   start_y   end_y score_y strand_y frame_y  \\\n",
       "0   291587  294355       .        -       .   \n",
       "1     2916    8370       .        +       .   \n",
       "\n",
       "                                         attribute_y  \n",
       "0  ID=gene:TRIAE_CS42_4BS_TGACv1_327870_AA1077090...  \n",
       "1  ID=gene:TRIAE_CS42_2AS_TGACv1_115069_AA0370760...  "
      ]
     },
     "execution_count": 74,
     "metadata": {},
     "output_type": "execute_result"
    }
   ],
   "source": [
    "df_res"
   ]
  },
  {
   "cell_type": "code",
   "execution_count": null,
   "metadata": {},
   "outputs": [],
   "source": [
    "#DE genes that are close to DE sRNA\n",
    "distance = 1500\n",
    "def filter(s):\n",
    "    start = s.start - distance\n",
    "    end = s.end + distance\n",
    "    df_res = df_de_srna_ann[(df_de_srna_ann.seqname == s.seqname) & (df_de_srna_ann.end >= start) & (df_de_srna_ann.start <= end)]\n",
    "#    df_res = df_de_srna_ann[(df_de_srna_ann.seqname == s.seqname)]\n",
    "    if len(df_res.index) == 0:\n",
    "        return False\n",
    "#    print(df_res)\n",
    "    return True\n",
    "\n",
    "#shortstack gff results that are DE\n",
    "df_genes_de_cross_srna = df_genes_de[df_genes_de.apply(lambda s: filter(s), axis=1)]\n",
    "print('Total DE filtered: ',len(df_genes_de_cross_srna.index))"
   ]
  }
 ],
 "metadata": {
  "kernelspec": {
   "display_name": "Python 3",
   "language": "python",
   "name": "python3"
  },
  "language_info": {
   "codemirror_mode": {
    "name": "ipython",
    "version": 3
   },
   "file_extension": ".py",
   "mimetype": "text/x-python",
   "name": "python",
   "nbconvert_exporter": "python",
   "pygments_lexer": "ipython3",
   "version": "3.6.5"
  }
 },
 "nbformat": 4,
 "nbformat_minor": 2
}
